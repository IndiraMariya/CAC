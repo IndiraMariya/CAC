{
 "cells": [
  {
   "cell_type": "code",
   "execution_count": 1,
   "metadata": {
    "collapsed": true,
    "ExecuteTime": {
     "end_time": "2023-09-18T07:59:55.950878Z",
     "start_time": "2023-09-18T07:59:54.748952Z"
    }
   },
   "outputs": [
    {
     "data": {
      "text/plain": "True"
     },
     "execution_count": 1,
     "metadata": {},
     "output_type": "execute_result"
    }
   ],
   "source": [
    "import os\n",
    "from dotenv import load_dotenv\n",
    "from supabase import create_client, Client\n",
    "import pandas as pd\n",
    "\n",
    "load_dotenv()"
   ]
  },
  {
   "cell_type": "code",
   "execution_count": 2,
   "outputs": [],
   "source": [
    "url: str = os.environ.get(\"SUPABASE_URL\")\n",
    "key: str = os.environ.get(\"SUPABASE_KEY\")\n",
    "supabase: Client = create_client(url, key)"
   ],
   "metadata": {
    "collapsed": false,
    "ExecuteTime": {
     "end_time": "2023-09-18T07:59:56.701069Z",
     "start_time": "2023-09-18T07:59:56.646118Z"
    }
   }
  },
  {
   "cell_type": "code",
   "execution_count": 3,
   "outputs": [],
   "source": [
    "response = supabase.table('Data').select(\"*\").execute()"
   ],
   "metadata": {
    "collapsed": false,
    "ExecuteTime": {
     "end_time": "2023-09-18T07:59:57.982373Z",
     "start_time": "2023-09-18T07:59:57.496693Z"
    }
   }
  },
  {
   "cell_type": "code",
   "execution_count": 4,
   "outputs": [
    {
     "data": {
      "text/plain": "     id                                              title  \\\n0  2681  Vivek Ramaswamy wasn’t in Model UN, but he’s g...   \n1  2713  U.S. Navy destroyer sports 'badass' pirate-ins...   \n2  2703  Alabama shooting: 2 dead after gunshot victims...   \n\n                                         description  \n0  As the GOP presidential candidates tussle, som...  \n1  The new Navy warship USS Carl M. Levin feature...  \n2  At least two victims died and three others wer...  ",
      "text/html": "<div>\n<style scoped>\n    .dataframe tbody tr th:only-of-type {\n        vertical-align: middle;\n    }\n\n    .dataframe tbody tr th {\n        vertical-align: top;\n    }\n\n    .dataframe thead th {\n        text-align: right;\n    }\n</style>\n<table border=\"1\" class=\"dataframe\">\n  <thead>\n    <tr style=\"text-align: right;\">\n      <th></th>\n      <th>id</th>\n      <th>title</th>\n      <th>description</th>\n    </tr>\n  </thead>\n  <tbody>\n    <tr>\n      <th>0</th>\n      <td>2681</td>\n      <td>Vivek Ramaswamy wasn’t in Model UN, but he’s g...</td>\n      <td>As the GOP presidential candidates tussle, som...</td>\n    </tr>\n    <tr>\n      <th>1</th>\n      <td>2713</td>\n      <td>U.S. Navy destroyer sports 'badass' pirate-ins...</td>\n      <td>The new Navy warship USS Carl M. Levin feature...</td>\n    </tr>\n    <tr>\n      <th>2</th>\n      <td>2703</td>\n      <td>Alabama shooting: 2 dead after gunshot victims...</td>\n      <td>At least two victims died and three others wer...</td>\n    </tr>\n  </tbody>\n</table>\n</div>"
     },
     "execution_count": 4,
     "metadata": {},
     "output_type": "execute_result"
    }
   ],
   "source": [
    "data = [[article['id'], article['articleData']['title'], article['articleData']['description']] for article in response.data]\n",
    "df = pd.DataFrame(data, columns=[\"id\", \"title\", \"description\"])\n",
    "\n",
    "df.head(3)"
   ],
   "metadata": {
    "collapsed": false,
    "ExecuteTime": {
     "end_time": "2023-09-18T07:59:59.504983Z",
     "start_time": "2023-09-18T07:59:59.484346Z"
    }
   }
  },
  {
   "cell_type": "code",
   "execution_count": 5,
   "outputs": [],
   "source": [
    "df.to_csv('datasets/supabase_data/data.csv', index=False)"
   ],
   "metadata": {
    "collapsed": false,
    "ExecuteTime": {
     "end_time": "2023-09-18T08:01:01.108306Z",
     "start_time": "2023-09-18T08:01:01.086139Z"
    }
   }
  },
  {
   "cell_type": "markdown",
   "source": [
    "#"
   ],
   "metadata": {
    "collapsed": false
   }
  },
  {
   "cell_type": "code",
   "execution_count": null,
   "outputs": [],
   "source": [],
   "metadata": {
    "collapsed": false
   }
  }
 ],
 "metadata": {
  "kernelspec": {
   "display_name": "Python 3",
   "language": "python",
   "name": "python3"
  },
  "language_info": {
   "codemirror_mode": {
    "name": "ipython",
    "version": 2
   },
   "file_extension": ".py",
   "mimetype": "text/x-python",
   "name": "python",
   "nbconvert_exporter": "python",
   "pygments_lexer": "ipython2",
   "version": "2.7.6"
  }
 },
 "nbformat": 4,
 "nbformat_minor": 0
}

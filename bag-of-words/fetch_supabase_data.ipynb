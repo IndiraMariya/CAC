{
 "cells": [
  {
   "cell_type": "code",
   "execution_count": 6,
   "metadata": {
    "collapsed": true,
    "ExecuteTime": {
     "end_time": "2023-09-04T06:00:54.795143Z",
     "start_time": "2023-09-04T06:00:54.210252Z"
    }
   },
   "outputs": [
    {
     "data": {
      "text/plain": "True"
     },
     "execution_count": 6,
     "metadata": {},
     "output_type": "execute_result"
    }
   ],
   "source": [
    "import os\n",
    "from dotenv import load_dotenv\n",
    "from supabase import create_client, Client\n",
    "import pandas as pd\n",
    "\n",
    "load_dotenv()"
   ]
  },
  {
   "cell_type": "code",
   "execution_count": 2,
   "outputs": [],
   "source": [
    "url: str = os.environ.get(\"SUPABASE_URL\")\n",
    "key: str = os.environ.get(\"SUPABASE_KEY\")\n",
    "supabase: Client = create_client(url, key)"
   ],
   "metadata": {
    "collapsed": false,
    "ExecuteTime": {
     "end_time": "2023-09-04T05:55:40.004674Z",
     "start_time": "2023-09-04T05:55:39.957100Z"
    }
   }
  },
  {
   "cell_type": "code",
   "execution_count": 3,
   "outputs": [],
   "source": [
    "response = supabase.table('Data').select(\"*\").execute()"
   ],
   "metadata": {
    "collapsed": false,
    "ExecuteTime": {
     "end_time": "2023-09-04T05:55:40.373697Z",
     "start_time": "2023-09-04T05:55:40.003258Z"
    }
   }
  },
  {
   "cell_type": "code",
   "execution_count": 20,
   "outputs": [
    {
     "data": {
      "text/plain": "     id                                              title  \\\n0   262             Mugshots of the week: Aug. 13-19, 2023   \n1   568  House Republicans Begin Investigating Willis a...   \n2  1355  Wisconsin deer farm infected with fatal brain ...   \n\n                                            abstract  \n0  Arrests were made and mugshots were taken thro...  \n1  The launch of an inquiry into Fani Willis, the...  \n2  A 150-acre deer farm in Washburn County, Wisco...  ",
      "text/html": "<div>\n<style scoped>\n    .dataframe tbody tr th:only-of-type {\n        vertical-align: middle;\n    }\n\n    .dataframe tbody tr th {\n        vertical-align: top;\n    }\n\n    .dataframe thead th {\n        text-align: right;\n    }\n</style>\n<table border=\"1\" class=\"dataframe\">\n  <thead>\n    <tr style=\"text-align: right;\">\n      <th></th>\n      <th>id</th>\n      <th>title</th>\n      <th>abstract</th>\n    </tr>\n  </thead>\n  <tbody>\n    <tr>\n      <th>0</th>\n      <td>262</td>\n      <td>Mugshots of the week: Aug. 13-19, 2023</td>\n      <td>Arrests were made and mugshots were taken thro...</td>\n    </tr>\n    <tr>\n      <th>1</th>\n      <td>568</td>\n      <td>House Republicans Begin Investigating Willis a...</td>\n      <td>The launch of an inquiry into Fani Willis, the...</td>\n    </tr>\n    <tr>\n      <th>2</th>\n      <td>1355</td>\n      <td>Wisconsin deer farm infected with fatal brain ...</td>\n      <td>A 150-acre deer farm in Washburn County, Wisco...</td>\n    </tr>\n  </tbody>\n</table>\n</div>"
     },
     "execution_count": 20,
     "metadata": {},
     "output_type": "execute_result"
    }
   ],
   "source": [
    "data = [[article['id'], article['articleData']['title'], article['articleData']['description']] for article in response.data]\n",
    "df = pd.DataFrame(data, columns=[\"id\", \"title\", \"description\"])\n",
    "\n",
    "df.head(3)"
   ],
   "metadata": {
    "collapsed": false,
    "ExecuteTime": {
     "end_time": "2023-09-04T06:13:30.244626Z",
     "start_time": "2023-09-04T06:13:30.240750Z"
    }
   }
  },
  {
   "cell_type": "code",
   "execution_count": 22,
   "outputs": [],
   "source": [
    "df.to_csv('datasets/supabase_data/data.csv', index=False)"
   ],
   "metadata": {
    "collapsed": false,
    "ExecuteTime": {
     "end_time": "2023-09-04T06:17:42.580125Z",
     "start_time": "2023-09-04T06:17:42.563624Z"
    }
   }
  },
  {
   "cell_type": "code",
   "execution_count": null,
   "outputs": [],
   "source": [],
   "metadata": {
    "collapsed": false
   }
  }
 ],
 "metadata": {
  "kernelspec": {
   "display_name": "Python 3",
   "language": "python",
   "name": "python3"
  },
  "language_info": {
   "codemirror_mode": {
    "name": "ipython",
    "version": 2
   },
   "file_extension": ".py",
   "mimetype": "text/x-python",
   "name": "python",
   "nbconvert_exporter": "python",
   "pygments_lexer": "ipython2",
   "version": "2.7.6"
  }
 },
 "nbformat": 4,
 "nbformat_minor": 0
}

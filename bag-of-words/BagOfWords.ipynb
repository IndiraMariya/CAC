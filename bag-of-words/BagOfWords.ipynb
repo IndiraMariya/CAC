{
 "cells": [
  {
   "cell_type": "code",
   "execution_count": 1,
   "metadata": {
    "collapsed": true,
    "ExecuteTime": {
     "end_time": "2023-09-03T06:17:47.847958Z",
     "start_time": "2023-09-03T06:17:46.651243Z"
    }
   },
   "outputs": [],
   "source": [
    "import pandas as pd\n",
    "import numpy as np\n",
    "\n",
    "from sklearn.feature_extraction.text import CountVectorizer\n",
    "from sklearn.feature_extraction.text import TfidfTransformer\n",
    "\n",
    "from sklearn.cluster import KMeans\n",
    "\n",
    "from sklearn.decomposition import TruncatedSVD\n",
    "from sklearn.pipeline import make_pipeline\n",
    "from sklearn.preprocessing import Normalizer"
   ]
  },
  {
   "cell_type": "code",
   "execution_count": 2,
   "outputs": [],
   "source": [
    "# read in data\n",
    "DATA_FP = \"datasets/MINDlarge_train/news.tsv\"\n",
    "\n",
    "data = pd.read_csv(DATA_FP, sep='\\t')"
   ],
   "metadata": {
    "collapsed": false,
    "ExecuteTime": {
     "end_time": "2023-09-03T06:17:48.635893Z",
     "start_time": "2023-09-03T06:17:47.848413Z"
    }
   }
  },
  {
   "cell_type": "code",
   "execution_count": 3,
   "outputs": [],
   "source": [
    "# add column labels and combine title and abstract\n",
    "data.columns = ['id', 'category', 'subcategory', 'title', 'abstract', 'url', 'title entities', 'abstract entities']\n",
    "data = data.fillna(\"\")\n",
    "combined = pd.DataFrame(data[\"title\"] + \";\" + data[\"abstract\"], columns=[\"text\"])"
   ],
   "metadata": {
    "collapsed": false,
    "ExecuteTime": {
     "end_time": "2023-09-03T06:17:48.699984Z",
     "start_time": "2023-09-03T06:17:48.654343Z"
    }
   }
  },
  {
   "cell_type": "code",
   "execution_count": 4,
   "outputs": [
    {
     "data": {
      "text/plain": "(101526, 73970)"
     },
     "execution_count": 4,
     "metadata": {},
     "output_type": "execute_result"
    }
   ],
   "source": [
    "# create bag of words\n",
    "count_vect = CountVectorizer(stop_words=\"english\")\n",
    "X_train_counts = count_vect.fit_transform(combined['text'])\n",
    "X_train_counts.shape"
   ],
   "metadata": {
    "collapsed": false,
    "ExecuteTime": {
     "end_time": "2023-09-03T06:17:50.430753Z",
     "start_time": "2023-09-03T06:17:48.731563Z"
    }
   }
  },
  {
   "cell_type": "code",
   "execution_count": 5,
   "outputs": [
    {
     "name": "stdout",
     "output_type": "stream",
     "text": [
      "52036\n"
     ]
    }
   ],
   "source": [
    "print(count_vect.vocabulary_.get(u'president'))"
   ],
   "metadata": {
    "collapsed": false,
    "ExecuteTime": {
     "end_time": "2023-09-03T06:17:50.434865Z",
     "start_time": "2023-09-03T06:17:50.428831Z"
    }
   }
  },
  {
   "cell_type": "markdown",
   "source": [],
   "metadata": {
    "collapsed": false
   }
  },
  {
   "cell_type": "code",
   "execution_count": 6,
   "outputs": [
    {
     "data": {
      "text/plain": "(101526, 73970)"
     },
     "execution_count": 6,
     "metadata": {},
     "output_type": "execute_result"
    }
   ],
   "source": [
    "# tfidf = Term Frequency times Inverse Document Frequency\n",
    "# removes weighting based on text document length\n",
    "tfidf_transformer = TfidfTransformer()\n",
    "X_tfidf = tfidf_transformer.fit_transform(X_train_counts)\n",
    "X_tfidf.shape"
   ],
   "metadata": {
    "collapsed": false,
    "ExecuteTime": {
     "end_time": "2023-09-03T06:17:50.537145Z",
     "start_time": "2023-09-03T06:17:50.436174Z"
    }
   }
  },
  {
   "cell_type": "code",
   "execution_count": 7,
   "outputs": [
    {
     "name": "stdout",
     "output_type": "stream",
     "text": [
      "Explained variance of the SVD step: 9.7%\n"
     ]
    }
   ],
   "source": [
    "# perform lsa (reduce size of dataset)\n",
    "lsa = make_pipeline(TruncatedSVD(n_components=100), Normalizer(copy=False))\n",
    "X_lsa = lsa.fit_transform(X_tfidf)\n",
    "explained_variance = lsa[0].explained_variance_ratio_.sum()\n",
    "\n",
    "print(f\"Explained variance of the SVD step: {explained_variance * 100:.1f}%\")"
   ],
   "metadata": {
    "collapsed": false,
    "ExecuteTime": {
     "end_time": "2023-09-03T06:18:00.442672Z",
     "start_time": "2023-09-03T06:17:50.538371Z"
    }
   }
  },
  {
   "cell_type": "code",
   "execution_count": 8,
   "outputs": [],
   "source": [
    "NUM_CLUSTERS = 10"
   ],
   "metadata": {
    "collapsed": false,
    "ExecuteTime": {
     "end_time": "2023-09-03T06:18:00.445633Z",
     "start_time": "2023-09-03T06:18:00.443190Z"
    }
   }
  },
  {
   "cell_type": "code",
   "execution_count": 9,
   "outputs": [
    {
     "name": "stdout",
     "output_type": "stream",
     "text": [
      "Number of elements assigned to each cluster: [13131 26021  5639  6832  5350  3553  4822 22607  7807  5764]\n"
     ]
    }
   ],
   "source": [
    "# cluster (k-means)\n",
    "kmeans = KMeans(\n",
    "    n_clusters=NUM_CLUSTERS\n",
    "    ,\n",
    "    max_iter=100,\n",
    "    n_init=1,\n",
    ").fit(X_lsa)\n",
    "cluster_ids, cluster_sizes = np.unique(kmeans.labels_, return_counts=True)\n",
    "print(f\"Number of elements assigned to each cluster: {cluster_sizes}\")"
   ],
   "metadata": {
    "collapsed": false,
    "ExecuteTime": {
     "end_time": "2023-09-03T06:18:01.176086Z",
     "start_time": "2023-09-03T06:18:00.446569Z"
    }
   }
  },
  {
   "cell_type": "code",
   "execution_count": 10,
   "outputs": [
    {
     "name": "stdout",
     "output_type": "stream",
     "text": [
      "Cluster 0: make just like best people time know food thanksgiving years \n",
      "Cluster 1: city says state said million news years 2020 day 2019 \n",
      "Cluster 2: police man said shooting say arrested woman shot officer officers \n",
      "Cluster 3: new york orleans jersey city restaurant says years england just \n",
      "Cluster 4: trump president impeachment donald house inquiry ukraine democrats white says \n",
      "Cluster 5: school high students student schools football district bus county board \n",
      "Cluster 6: year old girl boy missing said years family says million \n",
      "Cluster 7: game season team win football coach night sunday vs play \n",
      "Cluster 8: county crash california said road near people morning officials according \n",
      "Cluster 9: week weather snow forecast cold today rain temperatures 10 winter \n"
     ]
    }
   ],
   "source": [
    "# get top words in each cluster\n",
    "original_space_centroids = lsa[0].inverse_transform(kmeans.cluster_centers_)\n",
    "order_centroids = original_space_centroids.argsort()[:, ::-1]\n",
    "terms = count_vect.get_feature_names_out()\n",
    "\n",
    "for i in range(NUM_CLUSTERS):\n",
    "    print(f\"Cluster {i}: \", end=\"\")\n",
    "    for ind in order_centroids[i, :10]:\n",
    "        print(f\"{terms[ind]} \", end=\"\")\n",
    "    print()"
   ],
   "metadata": {
    "collapsed": false,
    "ExecuteTime": {
     "end_time": "2023-09-03T06:18:01.443896Z",
     "start_time": "2023-09-03T06:18:01.182067Z"
    }
   }
  },
  {
   "cell_type": "code",
   "execution_count": 10,
   "outputs": [],
   "source": [],
   "metadata": {
    "collapsed": false,
    "ExecuteTime": {
     "end_time": "2023-09-03T06:18:01.507663Z",
     "start_time": "2023-09-03T06:18:01.454189Z"
    }
   }
  }
 ],
 "metadata": {
  "kernelspec": {
   "display_name": "Python 3",
   "language": "python",
   "name": "python3"
  },
  "language_info": {
   "codemirror_mode": {
    "name": "ipython",
    "version": 2
   },
   "file_extension": ".py",
   "mimetype": "text/x-python",
   "name": "python",
   "nbconvert_exporter": "python",
   "pygments_lexer": "ipython2",
   "version": "2.7.6"
  }
 },
 "nbformat": 4,
 "nbformat_minor": 0
}

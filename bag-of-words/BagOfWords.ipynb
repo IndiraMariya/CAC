{
 "cells": [
  {
   "cell_type": "code",
   "execution_count": 10,
   "metadata": {
    "collapsed": true,
    "ExecuteTime": {
     "end_time": "2023-09-03T20:43:18.092689Z",
     "start_time": "2023-09-03T20:43:18.087845Z"
    }
   },
   "outputs": [],
   "source": [
    "import pandas as pd\n",
    "import numpy as np\n",
    "\n",
    "from sklearn.feature_extraction.text import CountVectorizer\n",
    "from sklearn.feature_extraction.text import TfidfTransformer\n",
    "\n",
    "from sklearn.cluster import KMeans\n",
    "\n",
    "from sklearn.decomposition import TruncatedSVD\n",
    "from sklearn.pipeline import make_pipeline\n",
    "from sklearn.preprocessing import Normalizer\n",
    "\n",
    "from nltk.stem.snowball import SnowballStemmer"
   ]
  },
  {
   "cell_type": "code",
   "execution_count": 29,
   "outputs": [],
   "source": [
    "# read in data\n",
    "DATA_FP = \"datasets/MINDlarge_train/news.tsv\"\n",
    "\n",
    "data = pd.read_csv(DATA_FP, sep='\\t')"
   ],
   "metadata": {
    "collapsed": false,
    "ExecuteTime": {
     "end_time": "2023-09-03T20:47:14.574214Z",
     "start_time": "2023-09-03T20:47:13.283609Z"
    }
   }
  },
  {
   "cell_type": "code",
   "execution_count": 30,
   "outputs": [],
   "source": [
    "# add column labels and combine title and abstract\n",
    "data.columns = ['id', 'category', 'subcategory', 'title', 'abstract', 'url', 'title entities', 'abstract entities']\n",
    "data = data.fillna(\"\")\n",
    "combined = pd.DataFrame(data[\"title\"] + \";\" + data[\"abstract\"], columns=[\"text\"])"
   ],
   "metadata": {
    "collapsed": false,
    "ExecuteTime": {
     "end_time": "2023-09-03T20:47:14.633983Z",
     "start_time": "2023-09-03T20:47:14.594627Z"
    }
   }
  },
  {
   "cell_type": "code",
   "execution_count": 31,
   "outputs": [
    {
     "data": {
      "text/plain": "                                                text  \\\n0  Walmart Slashes Prices on Last-Generation iPad...   \n\n                                             stemmed  \n0  walmart slash price on last-gener ipads;appl n...  ",
      "text/html": "<div>\n<style scoped>\n    .dataframe tbody tr th:only-of-type {\n        vertical-align: middle;\n    }\n\n    .dataframe tbody tr th {\n        vertical-align: top;\n    }\n\n    .dataframe thead th {\n        text-align: right;\n    }\n</style>\n<table border=\"1\" class=\"dataframe\">\n  <thead>\n    <tr style=\"text-align: right;\">\n      <th></th>\n      <th>text</th>\n      <th>stemmed</th>\n    </tr>\n  </thead>\n  <tbody>\n    <tr>\n      <th>0</th>\n      <td>Walmart Slashes Prices on Last-Generation iPad...</td>\n      <td>walmart slash price on last-gener ipads;appl n...</td>\n    </tr>\n  </tbody>\n</table>\n</div>"
     },
     "execution_count": 31,
     "metadata": {},
     "output_type": "execute_result"
    }
   ],
   "source": [
    "# Stemming\n",
    "stemmer = SnowballStemmer(\"english\", ignore_stopwords=True)\n",
    "\n",
    "combined['stemmed'] = combined['text'].apply(lambda x: ' '.join([stemmer.stem(word) for word in x.split(' ')]))\n",
    "\n",
    "combined.head(1)"
   ],
   "metadata": {
    "collapsed": false,
    "ExecuteTime": {
     "end_time": "2023-09-03T20:47:32.768130Z",
     "start_time": "2023-09-03T20:47:15.173111Z"
    }
   }
  },
  {
   "cell_type": "code",
   "execution_count": 46,
   "outputs": [
    {
     "data": {
      "text/plain": "(101526, 70975)"
     },
     "execution_count": 46,
     "metadata": {},
     "output_type": "execute_result"
    }
   ],
   "source": [
    "# create bag of words\n",
    "count_vect = CountVectorizer(\n",
    "    stop_words=\"english\",\n",
    "    # ngram_range=(1,2) # count words and pairs of words\n",
    ")\n",
    "X_train_counts = count_vect.fit_transform(combined['stemmed'])\n",
    "X_train_counts.shape"
   ],
   "metadata": {
    "collapsed": false,
    "ExecuteTime": {
     "end_time": "2023-09-03T20:54:23.191665Z",
     "start_time": "2023-09-03T20:54:21.073777Z"
    }
   }
  },
  {
   "cell_type": "code",
   "execution_count": 40,
   "outputs": [
    {
     "name": "stdout",
     "output_type": "stream",
     "text": [
      "1046825\n"
     ]
    }
   ],
   "source": [
    "print(count_vect.vocabulary_.get(u'president'))"
   ],
   "metadata": {
    "collapsed": false,
    "ExecuteTime": {
     "end_time": "2023-09-03T20:51:54.131861Z",
     "start_time": "2023-09-03T20:51:54.128041Z"
    }
   }
  },
  {
   "cell_type": "markdown",
   "source": [],
   "metadata": {
    "collapsed": false
   }
  },
  {
   "cell_type": "code",
   "execution_count": 41,
   "outputs": [
    {
     "data": {
      "text/plain": "(101526, 1537240)"
     },
     "execution_count": 41,
     "metadata": {},
     "output_type": "execute_result"
    }
   ],
   "source": [
    "# tfidf = Term Frequency times Inverse Document Frequency\n",
    "# removes weighting based on text document length\n",
    "tfidf_transformer = TfidfTransformer()\n",
    "X_tfidf = tfidf_transformer.fit_transform(X_train_counts)\n",
    "X_tfidf.shape"
   ],
   "metadata": {
    "collapsed": false,
    "ExecuteTime": {
     "end_time": "2023-09-03T20:51:57.323764Z",
     "start_time": "2023-09-03T20:51:56.774913Z"
    }
   }
  },
  {
   "cell_type": "code",
   "execution_count": 42,
   "outputs": [
    {
     "name": "stdout",
     "output_type": "stream",
     "text": [
      "Explained variance of the SVD step: 4.3%\n"
     ]
    }
   ],
   "source": [
    "# perform lsa (reduce size of dataset)\n",
    "lsa = make_pipeline(TruncatedSVD(n_components=100), Normalizer(copy=False))\n",
    "X_lsa = lsa.fit_transform(X_tfidf)\n",
    "explained_variance = lsa[0].explained_variance_ratio_.sum()\n",
    "\n",
    "print(f\"Explained variance of the SVD step: {explained_variance * 100:.1f}%\")"
   ],
   "metadata": {
    "collapsed": false,
    "ExecuteTime": {
     "end_time": "2023-09-03T20:52:58.866992Z",
     "start_time": "2023-09-03T20:51:58.127851Z"
    }
   }
  },
  {
   "cell_type": "code",
   "execution_count": 43,
   "outputs": [],
   "source": [
    "NUM_CLUSTERS = 100"
   ],
   "metadata": {
    "collapsed": false,
    "ExecuteTime": {
     "end_time": "2023-09-03T20:52:58.871420Z",
     "start_time": "2023-09-03T20:52:58.868642Z"
    }
   }
  },
  {
   "cell_type": "code",
   "execution_count": 44,
   "outputs": [
    {
     "name": "stdout",
     "output_type": "stream",
     "text": [
      "Number of elements assigned to each cluster: [ 595 2468 1342  261 1306  767  624 1892  772  703  959 1077  579 1623\n",
      " 1348 1178  520 1276 2038 1393  484  523  647 1129  613 1115 1008 1497\n",
      " 1916 1410  836 1046  408  363  978 1231 1463 2028  791  806  650  955\n",
      " 1810  391  687 1275  868  945 1505  954 1011  964 1571  891  952  845\n",
      " 1301 2029  922  698  647 1001 1262  709  498  749 1531  661  814 1148\n",
      "  656 1135  424  879  797  964 1077 1407  779 1230  339 1347 1274 1536\n",
      " 1424  815  831 1127 1288  544 1272  389  624  950  503 1657 1013  238\n",
      "  666 1084]\n"
     ]
    }
   ],
   "source": [
    "# cluster (k-means)\n",
    "kmeans = KMeans(\n",
    "    n_clusters=NUM_CLUSTERS\n",
    "    ,\n",
    "    max_iter=100,\n",
    "    n_init=1,\n",
    ").fit(X_lsa)\n",
    "cluster_ids, cluster_sizes = np.unique(kmeans.labels_, return_counts=True)\n",
    "print(f\"Number of elements assigned to each cluster: {cluster_sizes}\")"
   ],
   "metadata": {
    "collapsed": false,
    "ExecuteTime": {
     "end_time": "2023-09-03T20:53:04.991833Z",
     "start_time": "2023-09-03T20:53:00.878563Z"
    }
   }
  },
  {
   "cell_type": "code",
   "execution_count": 45,
   "outputs": [
    {
     "name": "stdout",
     "output_type": "stream",
     "text": [
      "Cluster 0: sign zodiac zodiac sign said newslett sign newslett free player make deal \n",
      "Cluster 1: year old year old girl boy old girl miss said old boy famili \n",
      "Cluster 2: play star tour 2020 player year big th wood tiger \n",
      "Cluster 3: neighborhood popular neighborhood brows brows spot brows popular popular local local businesses know businesses ratings \n",
      "Cluster 4: night monday game monday night friday win point score loss season \n",
      "Cluster 5: crash driver car polic hit kill said truck run road \n",
      "Cluster 6: trump presid impeach ukrain presid trump investig say biden donald trump donald \n",
      "Cluster 7: million year plan compani 000 th peopl announc new report \n",
      "Cluster 8: airport flight plane intern intern airport airlin land air make chicago \n",
      "Cluster 9: nfl team week kaepernick quarterback colin colin kaepernick nfl week trade bengal \n",
      "Cluster 10: health offici said th peopl cancer say flu death help \n",
      "Cluster 11: patriot england new england bradi tom tom bradi england patriot new belichick gordon \n",
      "Cluster 12: vote elect counti citi tuesday council voter 2019 poll race \n",
      "Cluster 13: home famili hous th new make insid run return holiday \n",
      "Cluster 14: world seri world seri nation astro series world series washington game washington nation \n",
      "Cluster 15: york new new york citi york citi jet york city city giant yanke \n",
      "Cluster 16: weather weather today today today weather forecast weather week week forecast week weather forecast city weather \n",
      "Cluster 17: snow weather cold temperatur rain winter storm record forecast expect \n",
      "Cluster 18: make like just help peopl thing look way want time \n",
      "Cluster 19: th new star peopl health look come million loss world \n",
      "Cluster 20: fort worth fort worth offic kill jefferson woman texa atatiana atatiana jefferson \n",
      "Cluster 21: student school colleg univers charg said colleg footbal say campus shoot \n",
      "Cluster 22: democrat elect race vote republican kentucki tuesday governor state bevin \n",
      "Cluster 23: california wildfir wind southern southern california evacu burn firefight los 000 \n",
      "Cluster 24: woman help kill charg famili polic say dog miss report \n",
      "Cluster 25: famili help said cancer dog time woman health women die \n",
      "Cluster 26: halloween trick costum treat trick treat halloween costum candi celebr dress kid \n",
      "Cluster 27: man shot kill said polic charg arrest man shot shoot old man \n",
      "Cluster 28: trump presid donald trump donald presid donald presid trump impeach syria ukrain white \n",
      "Cluster 29: open new thread open thread restaur busi store newest spot park \n",
      "Cluster 30: 10 week 10 week 000 thing 2020 19 time loss year \n",
      "Cluster 31: democrat warren presidenti biden candid 2020 elizabeth elizabeth warren democrat presidenti joe \n",
      "Cluster 32: water road close near break said south main street start \n",
      "Cluster 33: photo rundown ratings photo ratings busi rundown busi crunch number hoodlin crunch hoodlin crunch \n",
      "Cluster 34: steeler miami dolphin pittsburgh colt week miami dolphin pittsburgh steeler game start \n",
      "Cluster 35: coach head head coach team play season th player basketbal footbal \n",
      "Cluster 36: impeach trump hous inquiri impeach inquiri public democrat presid inquiry hear \n",
      "Cluster 37: new jersey orlean new orlean new jersey new york york food restaur open \n",
      "Cluster 38: ufc fight ufc 244 244 vs diaz espn event make ufc espn \n",
      "Cluster 39: florida storm rain tropic wind south gulf coast tropic storm beach \n",
      "Cluster 40: dog famili anim said help rescu woman adopt pet home \n",
      "Cluster 41: astro yanke houston game alc cole seri houston astro manag pitch \n",
      "Cluster 42: state penn state penn ohio ohio state iowa th oklahoma michigan state florida \n",
      "Cluster 43: hong hong kong kong protest china kong protest monday nba lebron jame \n",
      "Cluster 44: detroit lion detroit lion bear th stafford packer vs matthew stafford green \n",
      "Cluster 45: best 2019 restaur food deal rank th buy look best look \n",
      "Cluster 46: park nation washington th play open fall sign lot come \n",
      "Cluster 47: know need need know thing want everyth don help everyth need like \n",
      "Cluster 48: citi council kansa citi council kansa citi mayor vote oklahoma city plan \n",
      "Cluster 49: michigan michigan state state footbal arbor ann arbor ann michigan footbal notr dame \n",
      "Cluster 50: san francisco san francisco news antonio 49er san antonio link trend link articles \n",
      "Cluster 51: 2020 race presidenti democrat announc look year 10 make new \n",
      "Cluster 52: school student high school high district bus teacher counti school district board \n",
      "Cluster 53: look like look like apart rental low end like days does low price does \n",
      "Cluster 54: 2019 season octob best novemb 20 year 2019 20 star day \n",
      "Cluster 55: trade nfl deal deadline jet deadlin nfl trade trade deadline china trade deadlin \n",
      "Cluster 56: close road said near water area street lane offici north \n",
      "Cluster 57: polic offic said polic said shoot investig man polic say say suspect \n",
      "Cluster 58: vs game thread watch th week game thread time preview open thread \n",
      "Cluster 59: red wing red wing boston sox red sox detroit detroit red video celtic \n",
      "Cluster 60: beach virginia palm palm beach virginia beach florida west long miami counti \n",
      "Cluster 61: car hit driver crash say car crash park road drive buy \n",
      "Cluster 62: sunday raven texan jackson play quarterback defens run yard game \n",
      "Cluster 63: los angel los angel laker lebron jame los angeles angeles star ram \n",
      "Cluster 64: apart far dollar curi just dollar goe just far curi rent photo amenities point photo price point \n",
      "Cluster 65: veteran day veteran day honor help militari free monday war famili \n",
      "Cluster 66: win score second game season big beat team point lead \n",
      "Cluster 67: race nascar cup playoff win seri driver kansa championship texa \n",
      "Cluster 68: eagl cowboy sunday vike philadelphia dalla minnesota player bear team \n",
      "Cluster 69: team season play coach nfl footbal win leagu women sign \n",
      "Cluster 70: court suprem court suprem daca case trump judg feder rule end \n",
      "Cluster 71: say offici polic say florida peopl want investig north compani carolina \n",
      "Cluster 72: hotel rock hard hard rock orlean new orlean rock hotel collaps new construct \n",
      "Cluster 73: syria turkey trump baghdadi presid al al baghdadi isi leader troop \n",
      "Cluster 74: st loui st loui louis st louis paul st paul night new loui counti \n",
      "Cluster 75: power pg custom wind california outag 000 power rankings rank rankings \n",
      "Cluster 76: day veteran veteran day photo peopl time nation 2019 food just \n",
      "Cluster 77: make way like thanksgiv thing chang recip work just use \n",
      "Cluster 78: news morn octob brief cnn news brief morn news cnn brief novemb 2019 \n",
      "Cluster 79: charg arrest man murder woman accus face assault court alleg \n",
      "Cluster 80: adopt pet adopt pet pet adopt adopt center list center dog brows list cat \n",
      "Cluster 81: week week 10 nfl player bye week 11 11 10 bye week vote \n",
      "Cluster 82: counti sheriff offic deputi counti sheriff sheriff offic said county accord arrest \n",
      "Cluster 83: game play season vs saturday miss game thread th make point \n",
      "Cluster 84: crash kill vehicl driver highway road plane lane car involv \n",
      "Cluster 85: footbal colleg colleg footbal playoff footbal playoff rank week game lsu alabama \n",
      "Cluster 86: deal friday black black friday best holiday store appl amazon buy \n",
      "Cluster 87: brown cleveland ohio cleveland brown cleveland ohio mayfield sunday baker baker mayfield game \n",
      "Cluster 88: school high high school footbal school footbal team week score student player \n",
      "Cluster 89: watch vs fan star video live new thing tv play \n",
      "Cluster 90: report injuri injuri report accord th miss return new million thursday \n",
      "Cluster 91: elijah cum rep rep elijah elijah cum cummings elijah cummings baltimor die maryland \n",
      "Cluster 92: chief mahom patrick kansa patrick mahom kansa citi sunday texan citi quarterback \n",
      "Cluster 93: time fall save year daylight save time like daylight save start said \n",
      "Cluster 94: run hit driver hit run said kill yard second injur play \n",
      "Cluster 95: season 2019 start th team 20 nba basketbal end 2019 20 \n",
      "Cluster 96: hous white white hous trump impeach chief said pelosi mulvaney presid \n",
      "Cluster 97: forecast weather forecast weather wbz latest latest weather 2019 morn tv morn forecast \n",
      "Cluster 98: chicago teacher strike chicago teacher teacher strike union bear day school deal \n",
      "Cluster 99: food restaur best new peopl truck thanksgiv eat open make \n"
     ]
    }
   ],
   "source": [
    "# get top words in each cluster\n",
    "original_space_centroids = lsa[0].inverse_transform(kmeans.cluster_centers_)\n",
    "order_centroids = original_space_centroids.argsort()[:, ::-1]\n",
    "terms = count_vect.get_feature_names_out()\n",
    "\n",
    "for i in range(NUM_CLUSTERS):\n",
    "    print(f\"Cluster {i}: \", end=\"\")\n",
    "    for ind in order_centroids[i, :10]:\n",
    "        print(f\"{terms[ind]} \", end=\"\")\n",
    "    print()"
   ],
   "metadata": {
    "collapsed": false,
    "ExecuteTime": {
     "end_time": "2023-09-03T20:53:22.775409Z",
     "start_time": "2023-09-03T20:53:05.525340Z"
    }
   }
  },
  {
   "cell_type": "code",
   "execution_count": 10,
   "outputs": [],
   "source": [],
   "metadata": {
    "collapsed": false,
    "ExecuteTime": {
     "end_time": "2023-09-03T06:18:01.507663Z",
     "start_time": "2023-09-03T06:18:01.454189Z"
    }
   }
  }
 ],
 "metadata": {
  "kernelspec": {
   "display_name": "Python 3",
   "language": "python",
   "name": "python3"
  },
  "language_info": {
   "codemirror_mode": {
    "name": "ipython",
    "version": 2
   },
   "file_extension": ".py",
   "mimetype": "text/x-python",
   "name": "python",
   "nbconvert_exporter": "python",
   "pygments_lexer": "ipython2",
   "version": "2.7.6"
  }
 },
 "nbformat": 4,
 "nbformat_minor": 0
}

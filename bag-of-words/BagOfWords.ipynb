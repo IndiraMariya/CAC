{
 "cells": [
  {
   "cell_type": "markdown",
   "source": [
    "# Resources:\n",
    "- https://scikit-learn.org/stable/tutorial/text_analytics/working_with_text_data.html"
   ],
   "metadata": {
    "collapsed": false
   }
  },
  {
   "cell_type": "code",
   "execution_count": 1,
   "outputs": [],
   "source": [
    "import pandas as pd\n",
    "import numpy as np\n",
    "\n",
    "from sklearn.feature_extraction.text import CountVectorizer\n",
    "from sklearn.feature_extraction.text import TfidfTransformer\n",
    "\n",
    "from sklearn.cluster import KMeans\n",
    "\n",
    "from sklearn.decomposition import TruncatedSVD\n",
    "from sklearn.pipeline import make_pipeline\n",
    "from sklearn.preprocessing import Normalizer\n",
    "\n",
    "from nltk.stem.snowball import SnowballStemmer\n",
    "\n",
    "import string"
   ],
   "metadata": {
    "collapsed": false,
    "ExecuteTime": {
     "end_time": "2023-09-04T06:12:48.559627Z",
     "start_time": "2023-09-04T06:12:47.263357Z"
    }
   }
  },
  {
   "cell_type": "code",
   "execution_count": 10,
   "outputs": [
    {
     "data": {
      "text/plain": "     id                                              title  \\\n0   262             Mugshots of the week: Aug. 13-19, 2023   \n1   568  House Republicans Begin Investigating Willis a...   \n2  1355  Wisconsin deer farm infected with fatal brain ...   \n\n                                            abstract  \n0  Arrests were made and mugshots were taken thro...  \n1  The launch of an inquiry into Fani Willis, the...  \n2  A 150-acre deer farm in Washburn County, Wisco...  ",
      "text/html": "<div>\n<style scoped>\n    .dataframe tbody tr th:only-of-type {\n        vertical-align: middle;\n    }\n\n    .dataframe tbody tr th {\n        vertical-align: top;\n    }\n\n    .dataframe thead th {\n        text-align: right;\n    }\n</style>\n<table border=\"1\" class=\"dataframe\">\n  <thead>\n    <tr style=\"text-align: right;\">\n      <th></th>\n      <th>id</th>\n      <th>title</th>\n      <th>abstract</th>\n    </tr>\n  </thead>\n  <tbody>\n    <tr>\n      <th>0</th>\n      <td>262</td>\n      <td>Mugshots of the week: Aug. 13-19, 2023</td>\n      <td>Arrests were made and mugshots were taken thro...</td>\n    </tr>\n    <tr>\n      <th>1</th>\n      <td>568</td>\n      <td>House Republicans Begin Investigating Willis a...</td>\n      <td>The launch of an inquiry into Fani Willis, the...</td>\n    </tr>\n    <tr>\n      <th>2</th>\n      <td>1355</td>\n      <td>Wisconsin deer farm infected with fatal brain ...</td>\n      <td>A 150-acre deer farm in Washburn County, Wisco...</td>\n    </tr>\n  </tbody>\n</table>\n</div>"
     },
     "execution_count": 10,
     "metadata": {},
     "output_type": "execute_result"
    }
   ],
   "source": [
    "# read in data\n",
    "TEST_FP = \"datasets/MINDlarge_train/news.tsv\"\n",
    "SUPABASE_FP = \"datasets/supabase_data/data.csv\"\n",
    "\n",
    "DATA_FP = SUPABASE_FP\n",
    "\n",
    "if DATA_FP == TEST_FP:\n",
    "    separator = '\\t'\n",
    "else:\n",
    "    separator = ','\n",
    "\n",
    "data = pd.read_csv(DATA_FP, sep=separator)\n",
    "\n",
    "data.head(3)"
   ],
   "metadata": {
    "collapsed": false,
    "ExecuteTime": {
     "end_time": "2023-09-04T06:17:51.066567Z",
     "start_time": "2023-09-04T06:17:51.042591Z"
    }
   }
  },
  {
   "cell_type": "code",
   "execution_count": 11,
   "outputs": [
    {
     "data": {
      "text/plain": "                                                text    id\n0  Mugshots of the week: Aug. 13-19, 2023; Arrest...   262\n1  House Republicans Begin Investigating Willis a...   568\n2  Wisconsin deer farm infected with fatal brain ...  1355",
      "text/html": "<div>\n<style scoped>\n    .dataframe tbody tr th:only-of-type {\n        vertical-align: middle;\n    }\n\n    .dataframe tbody tr th {\n        vertical-align: top;\n    }\n\n    .dataframe thead th {\n        text-align: right;\n    }\n</style>\n<table border=\"1\" class=\"dataframe\">\n  <thead>\n    <tr style=\"text-align: right;\">\n      <th></th>\n      <th>text</th>\n      <th>id</th>\n    </tr>\n  </thead>\n  <tbody>\n    <tr>\n      <th>0</th>\n      <td>Mugshots of the week: Aug. 13-19, 2023; Arrest...</td>\n      <td>262</td>\n    </tr>\n    <tr>\n      <th>1</th>\n      <td>House Republicans Begin Investigating Willis a...</td>\n      <td>568</td>\n    </tr>\n    <tr>\n      <th>2</th>\n      <td>Wisconsin deer farm infected with fatal brain ...</td>\n      <td>1355</td>\n    </tr>\n  </tbody>\n</table>\n</div>"
     },
     "execution_count": 11,
     "metadata": {},
     "output_type": "execute_result"
    }
   ],
   "source": [
    "if DATA_FP == TEST_FP:\n",
    "    # add column labels\n",
    "    data.columns = ['id', 'category', 'subcategory', 'title', 'description', 'url', 'title entities', 'abstract entities']\n",
    "\n",
    "    # remove data from specific topics\n",
    "    filter = ~data['category'].isin(['sports'])\n",
    "    data = data[filter]\n",
    "\n",
    "elif DATA_FP == SUPABASE_FP:\n",
    "    # add column labels\n",
    "    data.columns = ['id', 'title', 'description']\n",
    "\n",
    "data = data.fillna(\"\")\n",
    "\n",
    "combined = pd.DataFrame(data[\"title\"] + \"; \" + data[\"description\"], columns=[\"text\"])\n",
    "combined['id'] = data['id']\n",
    "combined.head(3)"
   ],
   "metadata": {
    "collapsed": false,
    "ExecuteTime": {
     "end_time": "2023-09-04T06:17:53.673959Z",
     "start_time": "2023-09-04T06:17:53.665841Z"
    }
   }
  },
  {
   "cell_type": "code",
   "execution_count": 12,
   "outputs": [
    {
     "data": {
      "text/plain": "                                                text   id  \\\n0  Mugshots of the week: Aug. 13-19, 2023; Arrest...  262   \n\n                                             stemmed  \n0  mugshot of the week aug 1319 2023 arrest were ...  ",
      "text/html": "<div>\n<style scoped>\n    .dataframe tbody tr th:only-of-type {\n        vertical-align: middle;\n    }\n\n    .dataframe tbody tr th {\n        vertical-align: top;\n    }\n\n    .dataframe thead th {\n        text-align: right;\n    }\n</style>\n<table border=\"1\" class=\"dataframe\">\n  <thead>\n    <tr style=\"text-align: right;\">\n      <th></th>\n      <th>text</th>\n      <th>id</th>\n      <th>stemmed</th>\n    </tr>\n  </thead>\n  <tbody>\n    <tr>\n      <th>0</th>\n      <td>Mugshots of the week: Aug. 13-19, 2023; Arrest...</td>\n      <td>262</td>\n      <td>mugshot of the week aug 1319 2023 arrest were ...</td>\n    </tr>\n  </tbody>\n</table>\n</div>"
     },
     "execution_count": 12,
     "metadata": {},
     "output_type": "execute_result"
    }
   ],
   "source": [
    "# Stemming\n",
    "stemmer = SnowballStemmer(\"english\", ignore_stopwords=True)\n",
    "\n",
    "combined['stemmed'] = combined['text'].apply(\n",
    "    lambda x:\n",
    "        ' '.join([\n",
    "            stemmer.stem(word) for word in x.translate(\n",
    "                str.maketrans('', '', string.punctuation) # remove punctuation\n",
    "            ).split(' ')\n",
    "        ])\n",
    ")\n",
    "\n",
    "combined.head(1)"
   ],
   "metadata": {
    "collapsed": false,
    "ExecuteTime": {
     "end_time": "2023-09-04T06:30:47.646812Z",
     "start_time": "2023-09-04T06:30:47.568513Z"
    }
   }
  },
  {
   "cell_type": "code",
   "execution_count": 13,
   "outputs": [
    {
     "data": {
      "text/plain": "(336, 2604)"
     },
     "execution_count": 13,
     "metadata": {},
     "output_type": "execute_result"
    }
   ],
   "source": [
    "# create bag of words\n",
    "count_vect = CountVectorizer(\n",
    "    stop_words=\"english\",\n",
    "    # ngram_range=(1,2) # count words and pairs of words\n",
    ")\n",
    "X_train_counts = count_vect.fit_transform(combined['stemmed'])\n",
    "X_train_counts.shape"
   ],
   "metadata": {
    "collapsed": false,
    "ExecuteTime": {
     "end_time": "2023-09-04T06:30:49.095597Z",
     "start_time": "2023-09-04T06:30:49.082575Z"
    }
   }
  },
  {
   "cell_type": "code",
   "execution_count": 14,
   "outputs": [
    {
     "name": "stdout",
     "output_type": "stream",
     "text": [
      "None\n"
     ]
    }
   ],
   "source": [
    "print(count_vect.vocabulary_.get(u'president'))"
   ],
   "metadata": {
    "collapsed": false,
    "ExecuteTime": {
     "end_time": "2023-09-04T06:30:50.876113Z",
     "start_time": "2023-09-04T06:30:50.864796Z"
    }
   }
  },
  {
   "cell_type": "markdown",
   "source": [],
   "metadata": {
    "collapsed": false
   }
  },
  {
   "cell_type": "code",
   "execution_count": 15,
   "outputs": [
    {
     "data": {
      "text/plain": "(336, 2604)"
     },
     "execution_count": 15,
     "metadata": {},
     "output_type": "execute_result"
    }
   ],
   "source": [
    "# tfidf = Term Frequency times Inverse Document Frequency\n",
    "# removes weighting based on text document length\n",
    "tfidf_transformer = TfidfTransformer()\n",
    "X_tfidf = tfidf_transformer.fit_transform(X_train_counts)\n",
    "X_tfidf.shape"
   ],
   "metadata": {
    "collapsed": false,
    "ExecuteTime": {
     "end_time": "2023-09-04T06:30:53.840070Z",
     "start_time": "2023-09-04T06:30:53.830570Z"
    }
   }
  },
  {
   "cell_type": "code",
   "execution_count": 16,
   "outputs": [
    {
     "name": "stdout",
     "output_type": "stream",
     "text": [
      "Explained variance of the SVD step: 48.0%\n"
     ]
    }
   ],
   "source": [
    "# perform lsa (reduce size of dataset)\n",
    "lsa = make_pipeline(TruncatedSVD(n_components=100), Normalizer(copy=False))\n",
    "X_lsa = lsa.fit_transform(X_tfidf)\n",
    "explained_variance = lsa[0].explained_variance_ratio_.sum()\n",
    "\n",
    "print(f\"Explained variance of the SVD step: {explained_variance * 100:.1f}%\")"
   ],
   "metadata": {
    "collapsed": false,
    "ExecuteTime": {
     "end_time": "2023-09-04T06:30:54.713549Z",
     "start_time": "2023-09-04T06:30:54.441971Z"
    }
   }
  },
  {
   "cell_type": "code",
   "execution_count": 30,
   "outputs": [],
   "source": [
    "NUM_CLUSTERS = 60"
   ],
   "metadata": {
    "collapsed": false,
    "ExecuteTime": {
     "end_time": "2023-09-04T06:32:34.396899Z",
     "start_time": "2023-09-04T06:32:34.396579Z"
    }
   }
  },
  {
   "cell_type": "code",
   "execution_count": 31,
   "outputs": [
    {
     "name": "stdout",
     "output_type": "stream",
     "text": [
      "Number of elements assigned to each cluster: [ 6  6 11  9  6  4 11  4  6  8  5 12  8  6  6 11  7  3  4  4  5 10  4  5\n",
      "  5  6  3  5  4  4  5  5  8  5  4  9  5  8  3  3  4  4  2  7  4  2  4  4\n",
      "  4  7  3  8  5  2  6  3  5  6  6  7]\n"
     ]
    }
   ],
   "source": [
    "# cluster (k-means)\n",
    "kmeans = KMeans(\n",
    "    n_clusters=NUM_CLUSTERS,\n",
    "    max_iter=100,\n",
    "    n_init=1,\n",
    "\n",
    ").fit(X_lsa)\n",
    "cluster_ids, cluster_sizes = np.unique(kmeans.labels_, return_counts=True)\n",
    "print(f\"Number of elements assigned to each cluster: {cluster_sizes}\")"
   ],
   "metadata": {
    "collapsed": false,
    "ExecuteTime": {
     "end_time": "2023-09-04T06:32:34.849296Z",
     "start_time": "2023-09-04T06:32:34.749119Z"
    }
   }
  },
  {
   "cell_type": "code",
   "execution_count": 32,
   "outputs": [
    {
     "name": "stdout",
     "output_type": "stream",
     "text": [
      "Cluster 0: son murder charg mother buckley york attack tennesse gun coupl \n",
      "Cluster 1: gop candid debat come presid democraci illustr hand say parti \n",
      "Cluster 2: kill polic suspect shot offic texa man 17 alleg k9 \n",
      "Cluster 3: debat republican presidenti candid issu rival abort 2024 parti clash \n",
      "Cluster 4: mcconnel senat mitch kentucki freez second episod leader incid doctor \n",
      "Cluster 5: case lawyer trump trial defens white presid team sadow 1931 \n",
      "Cluster 6: biden presid impeach trump lake mr stori desir economi hunter \n",
      "Cluster 7: forc disrupt industri world flight american water chip turn heat \n",
      "Cluster 8: cross illeg border famili august soldier direct 91000 sinc step \n",
      "Cluster 9: ramaswami say vivek campaign rap voter trail song eminem polit \n",
      "Cluster 10: guantánamo court bomb case defend bali tortur cole uss attack \n",
      "Cluster 11: year prison sentenc massachusett man abus sexual texa 45 girl \n",
      "Cluster 12: campaign way trump politician calendar buckley trail accompani asterisk assess \n",
      "Cluster 13: elect 2020 guilti charg plead follow arraign feder trump bond \n",
      "Cluster 14: sentenc jan proud year boy leader longest 18 capitol convict \n",
      "Cluster 15: alleg charg pennsylvania sexual man women sex drug polic pay \n",
      "Cluster 16: secretari state democrat china california issu mississippi meet advanc commerc \n",
      "Cluster 17: attack star wasn ramaswami ron person desanti just indic anoth \n",
      "Cluster 18: escap murder convict danelo cavalcant pennsylvania residenti area confer broke \n",
      "Cluster 19: inmat prison stab correct death refus minnesota cell emerg missouri \n",
      "Cluster 20: claim news fox allow fli interview record suspect new eastman \n",
      "Cluster 21: poll ramaswami voter debat republican desanti vivek ron iowa gop \n",
      "Cluster 22: congress spend year lawmak rise current deal trade age averag \n",
      "Cluster 23: haley moment nikki carolina south respons debat abort governor republican \n",
      "Cluster 24: attack california victim time polic man citi west stab mother \n",
      "Cluster 25: confirm plane prigozhin offici counti kill dead georgia wisconsin group \n",
      "Cluster 26: area mayor homeless hilari say evacu riverb los angel citi \n",
      "Cluster 27: hurrican florida desanti idalia presid biden tour damag ron meet \n",
      "Cluster 28: south korea japan secur tension address appear region issu biden \n",
      "Cluster 29: giuliani legal judg larg defam rudi reason loss liabl blister \n",
      "Cluster 30: deal trade amgen reach merger commiss ftc therapeut horizon billion \n",
      "Cluster 31: rescu crash apart includ paramed peopl kill young respond dead \n",
      "Cluster 32: debat republican watch particip second trump instead happi presidenti percent \n",
      "Cluster 33: maui miss wildfir person hawaii respons face 385 updat toll \n",
      "Cluster 34: desanti ron educ mr messag governor ivi leagu war money \n",
      "Cluster 35: trump investig donald case indict presid 2024 republican presidenti race \n",
      "Cluster 36: convict judg trial bond feder grant louisiana teenag murder michigan \n",
      "Cluster 37: debat fox news trump tucker interview skip carlson host plan \n",
      "Cluster 38: republican meijer committe primari senat michigan run impeach peter exploratori \n",
      "Cluster 39: pac super pitch debat million buck 50 desanti prodesanti need \n",
      "Cluster 40: airlin american tarmac flight fine 41 delay million fbi massachusett \n",
      "Cluster 41: compani media social lead texa elon musk ahead big tech \n",
      "Cluster 42: mugshot aug 2023 week 27sept 1319 taken arrest proven innoc \n",
      "Cluster 43: pentagon militari train offici use china chang drone said ukrainian \n",
      "Cluster 44: hilari storm california tropic hurrican expect flood state idalia warn \n",
      "Cluster 45: wall place border piec berlin san hous union white presid \n",
      "Cluster 46: san francisco offic famili polic vehicl servic car refus combat \n",
      "Cluster 47: arm shot suspect govern russian man elder bathroom south like \n",
      "Cluster 48: colleg lawsuit alleg stab kansa communiti case cpac reach dc \n",
      "Cluster 49: governor richardson die serv american freelanc new mexico 75 ambassador \n",
      "Cluster 50: polit republican winner parti fight presidenti mccain abort ron big \n",
      "Cluster 51: trial trump date march case judg 2024 campaign set donald \n",
      "Cluster 52: book jail trump fulton photo mug counti presid shot bewilder \n",
      "Cluster 53: flood burn man festiv amid investig water conserv nevada told \n",
      "Cluster 54: polic arrest offic fbi charg death depart man atlanta investig \n",
      "Cluster 55: island block lake histor declar demolish weekend state inn harborsid \n",
      "Cluster 56: biden attorney david inflat consum beau loan state mayor investig \n",
      "Cluster 57: school florida black judg woman elementari princip student assembl middl \n",
      "Cluster 58: texa child driver support law pay highway drunken effect alleg \n",
      "Cluster 59: indict number georgia trump alleg crime abort charg check end \n"
     ]
    }
   ],
   "source": [
    "# get top words in each cluster\n",
    "original_space_centroids = lsa[0].inverse_transform(kmeans.cluster_centers_)\n",
    "order_centroids = original_space_centroids.argsort()[:, ::-1]\n",
    "terms = count_vect.get_feature_names_out()\n",
    "\n",
    "for i in range(NUM_CLUSTERS):\n",
    "    print(f\"Cluster {i}: \", end=\"\")\n",
    "    for ind in order_centroids[i, :10]:\n",
    "        print(f\"{terms[ind]} \", end=\"\")\n",
    "    print()"
   ],
   "metadata": {
    "collapsed": false,
    "ExecuteTime": {
     "end_time": "2023-09-04T06:32:35.533577Z",
     "start_time": "2023-09-04T06:32:35.498138Z"
    }
   }
  },
  {
   "cell_type": "code",
   "execution_count": 33,
   "outputs": [],
   "source": [
    "data['group'] = kmeans.labels_"
   ],
   "metadata": {
    "collapsed": false,
    "ExecuteTime": {
     "end_time": "2023-09-04T06:32:36.271959Z",
     "start_time": "2023-09-04T06:32:36.266704Z"
    }
   }
  },
  {
   "cell_type": "code",
   "execution_count": 34,
   "outputs": [
    {
     "name": "stdout",
     "output_type": "stream",
     "text": [
      "-------------- CLUSTER #0\n",
      "18     She’s a Republican gun owner. Now she’s pleadi...\n",
      "36     James L. Buckley, Conservative Senator in Libe...\n",
      "70     Tennessee hiking couple found safe in Alaska a...\n",
      "123    NYC hammer attack suspect charged with murder,...\n",
      "207    LA fire captain's son charged with attempted r...\n",
      "319    Mother and son grifters who were ‘like a coupl...\n",
      "Name: title, dtype: object\n",
      "-------------- CLUSTER #1\n",
      "108    Most G.O.P. Candidates Say They Will Support T...\n",
      "112    Ramaswamy and Haley show the GOP’s divergent p...\n",
      "163    ‘Democracy’ was on the wall at the GOP debate....\n",
      "241    Tenn. lawmakers refused to act on guns. A GOP ...\n",
      "244    Is America ready for another impeachment? McCa...\n",
      "309    Biden fights back against GOP onslaught on edu...\n",
      "Name: title, dtype: object\n",
      "-------------- CLUSTER #2\n",
      "46     California store owner shot dead after alleged...\n",
      "56     Texas man confesses to killing wife over 'jeal...\n",
      "62     Marine killed in live-fire training accident a...\n",
      "65     Kentucky suspect accused of chopping naked wom...\n",
      "119    Texas man who shot at apartment burglary suspe...\n",
      "130    Grand jury declines to indict Kentucky officer...\n",
      "188    Video shows Jacksonville shooter putting on ta...\n",
      "198    Google to invest $1.7 into current, future Ohi...\n",
      "274    U.S. Knew About Migrant Killings by Saudi Forc...\n",
      "323    Georgia suspect, 17, killed after fatally shoo...\n",
      "331    Washington deputy barks like police K-9, trick...\n",
      "Name: title, dtype: object\n",
      "-------------- CLUSTER #3\n",
      "25     Where the Republican Presidential Candidates S...\n",
      "81      Highlights, analysis from the first Republica...\n",
      "84     Republican rivals clash sharply in combative d...\n",
      "90     Fact-checking the first Republican primary deb...\n",
      "92     G.O.P. Chair Says Candidates Must Talk About A...\n",
      "105    Republicans’ Debate Clashes Highlight Party’s ...\n",
      "109           Takeaways From the First Republican Debate\n",
      "113    At First Debate, a Glimpse of Trumpism Without...\n",
      "185    Ramaswamy-Pence Debate Clash Exposes Divide in...\n",
      "Name: title, dtype: object\n",
      "-------------- CLUSTER #4\n",
      "223    McConnell tries to tamp down health concerns a...\n",
      "237    Mitch McConnell appears to freeze again while ...\n",
      "254    Kentucky’s governor won’t commit to appointing...\n",
      "267    Mitch McConnell May Be Experiencing Small Seiz...\n",
      "277    What Happens if Mitch McConnell Resigns Before...\n",
      "282    McConnell Releases Letter Declaring Him ‘Medic...\n",
      "Name: title, dtype: object\n",
      "-------------- CLUSTER #5\n",
      "96       Who Is Steve Sadow, Trump’s New Defense Lawyer?\n",
      "169        Trump’s Georgia case could get real — quickly\n",
      "247    Trump lawyers evoke 1931 trial of ‘Scottsboro ...\n",
      "265    Biden Team Isn’t Waiting for Impeachment to Go...\n",
      "Name: title, dtype: object\n",
      "-------------- CLUSTER #6\n",
      "26     Trump May Skip Some G.O.P. Debates, but Advise...\n",
      "50       Inside the Collapse of Hunter Biden’s Plea Deal\n",
      "71     Americans aren’t sold on a Biden impeachment i...\n",
      "95     Biden’s Trip to Lake Tahoe Has Not Been Free F...\n",
      "151    President Biden visits D.C. middle school to m...\n",
      "155    Republicans have already achieved a desired im...\n",
      "186    Labor Groups Target Hyundai — and Biden — Over...\n",
      "238     Liberals raise alarms, calling on Biden to sh...\n",
      "239    Biden loves to retell certain stories. Some ar...\n",
      "275    Biden Administration Proposes Expanding Backgr...\n",
      "297    On the Economy, Biden Struggles to Convince Vo...\n",
      "Name: title, dtype: object\n",
      "-------------- CLUSTER #7\n",
      "16     American democracy is cracking. These forces h...\n",
      "212    Heating Waters Force Change in Industries That...\n",
      "214    This Company Is Nvidia's AI Chip Partner---and...\n",
      "216    U.K. Flights Disrupted by Air-Traffic-Control ...\n",
      "Name: title, dtype: object\n",
      "-------------- CLUSTER #8\n",
      "33     Illegal Border Crossings Increase in July Afte...\n",
      "157    U.S. soldier in Texas wounds man in unusual cr...\n",
      "218    Families crossing U.S. border illegally reache...\n",
      "222          OpenAI Launches Business Version of ChatGPT\n",
      "270    Record Number of Families Cross Southern Borde...\n",
      "306                 Walgreens Chief Executive Steps Down\n",
      "Name: title, dtype: object\n",
      "-------------- CLUSTER #9\n",
      "11     Trump says he did ‘nothing wrong.’ Even Republ...\n",
      "37     Vivek Ramaswamy Loves Eminem. And He Doesn’t C...\n",
      "44     If DeSantis Defends Trump At Debate, He Should...\n",
      "97     Vivek Ramaswamy Is Happy to Be Talked About, E...\n",
      "150    Eminem tells Vivek Ramaswamy to not use his so...\n",
      "175    Eminem Tells Vivek Ramaswamy to Stop Rapping H...\n",
      "191    Vivek Ramaswamy, the Millennial 2024 Candidate...\n",
      "322    New Hampshire Voters Like Ramaswamy, but More ...\n",
      "Name: title, dtype: object\n",
      "-------------- CLUSTER #10\n",
      "34     Judge Throws Out Confession of Bombing Suspect...\n",
      "49     Army base, once named for an enslaver, now hon...\n",
      "102    Retired Army Lawyer Will Oversee Pentagon’s Wa...\n",
      "272    Plea Deal May Be Near for a Bali Bombing Defen...\n",
      "315    Kennedy’s Supreme Court legacy is being erased...\n",
      "Name: title, dtype: object\n",
      "-------------- CLUSTER #11\n",
      "54     Maryland man sentenced to life for sexually ab...\n",
      "120    Child pornographer to serve 45 years in Massac...\n",
      "128    Indiana State Fair reports slight attendance i...\n",
      "129    Texas man sentenced to 60 years in prison for ...\n",
      "135    Florida man who posed as teen in disturbing se...\n",
      "136    Indiana postal worker who stole $1.7M worth of...\n",
      "190    Michigan man, far-right 'Boogaloo Boy,' gets y...\n",
      "204    Man who killed, dismembered roommate after fig...\n",
      "279    Texas suspect caught on video torturing family...\n",
      "291    Massachusetts party descends into deadly chaos...\n",
      "304    Massachusetts warns dog walkers of pet-snatchi...\n",
      "307    NC Supreme Court upholds death sentence of man...\n",
      "Name: title, dtype: object\n",
      "-------------- CLUSTER #12\n",
      "6      ‘I could sell golf’: How DeSantis and aides co...\n",
      "15     James Buckley, conservative politician and U.S...\n",
      "21     DeSantis Tweaks His Messaging and Tactics Afte...\n",
      "160    An asterisk should accompany assessments of Tr...\n",
      "162    All the times Trump’s trials conflict with the...\n",
      "227    A different way to consider McConnell’s (and F...\n",
      "243    Republican race remains stuck as Trump dominat...\n",
      "260      For Politicians, Vacations Can Be a Lot of Work\n",
      "Name: title, dtype: object\n",
      "-------------- CLUSTER #13\n",
      "159    Trump pleads not guilty at arraignment for 202...\n",
      "194    Colorado man faces federal charges for cyberst...\n",
      "196    Retired judge leading Georgia's State Election...\n",
      "240    Trump co-defendant reaches bond agreement afte...\n",
      "301    Texas man who threatened to kill Georgia offic...\n",
      "320    NYC cop cleared of excessive force charges fro...\n",
      "Name: title, dtype: object\n",
      "-------------- CLUSTER #14\n",
      "12     U.S. seeks 33 years in prison for Proud Boys’ ...\n",
      "17     FBI looks for Proud Boy after the Jan. 6 convi...\n",
      "231    Proud Boy leader Joseph Biggs sentenced to 17 ...\n",
      "262    Proud Boys leader gets 18 years, matching long...\n",
      "273     Two Proud Boys Sentenced in Jan. 6 Sedition Case\n",
      "329    MS-13 and Mexican Mafia leader sentenced to 17...\n",
      "Name: title, dtype: object\n",
      "-------------- CLUSTER #15\n",
      "41     Pennsylvania parents charged after 4-year-old ...\n",
      "51     Victim of Barnes & Noble 'sniffer' blasts repe...\n",
      "126    Beverly Hills man stole more than $18M in jewe...\n",
      "131    Pennsylvania woman charged after allegedly dit...\n",
      "133    NYC police sergeant suspended without pay afte...\n",
      "149    Teva Agrees to Pay $225 Million to Settle U.S....\n",
      "182    Electric Vehicle Charging Can Be Confusing. He...\n",
      "290    Pennsylvania man charged with human traffickin...\n",
      "299    Virginia mom had lewd relationship with teen t...\n",
      "310    Months of North Carolina sexual assaults pinne...\n",
      "325    Maryland man arrested for alleged sexual solic...\n",
      "Name: title, dtype: object\n",
      "-------------- CLUSTER #16\n",
      "179    U.S. and China Agree to Broaden Talks in Bid t...\n",
      "184    U.S. Commerce Secretary Faces a Wide Range of ...\n",
      "189    Texas historical society averts lawsuit in dis...\n",
      "195    Democratic candidate withdraws from Mississipp...\n",
      "287    California GOP leader says Democratic policies...\n",
      "293    California Dem-led committee advances bill to ...\n",
      "314    Meet Fabian Nelson, Mississippi’s First Openly...\n",
      "Name: title, dtype: object\n",
      "-------------- CLUSTER #17\n",
      "38    Trump Wasn’t Invited to This Georgia Event, bu...\n",
      "69    TikTok star Caleb Coffee plummets 80-feet off ...\n",
      "76    It wasn’t just his personality that prompted t...\n",
      "Name: title, dtype: object\n",
      "-------------- CLUSTER #18\n",
      "106    How the Jackson Hole Conference Became an Econ...\n",
      "285    Pennsylvania officials have 'strong belief' es...\n",
      "292    Escaped murder convict Danelo Cavalcante spott...\n",
      "295    Portland fugitive fished out of pond after esc...\n",
      "Name: title, dtype: object\n",
      "-------------- CLUSTER #19\n",
      "117    Prosecutors seek plea hearings for corrections...\n",
      "134    Third inmate death in one month at Missouri pr...\n",
      "208    Inmate fatally stabbed at northern California ...\n",
      "317    Minnesota prison on emergency lockdown after d...\n",
      "Name: title, dtype: object\n",
      "-------------- CLUSTER #20\n",
      "45     Kansas reporter accused of breaking law before...\n",
      "99     C.F.T.C. Weighs Proposal to Allow U.S. Betting...\n",
      "161    The fired Ukrainian prosecutor is not a reliab...\n",
      "171    5,000 pilots suspected of hiding major health ...\n",
      "234    The falsehoods you’re allowed to tell on Fox News\n",
      "Name: title, dtype: object\n",
      "-------------- CLUSTER #21\n",
      "24     How G.O.P. Views of Biden Are Helping Trump in...\n",
      "39     Poll Shows Sense of Doom Among Voters in Both ...\n",
      "77     Our Republican debate poll finds Ron DeSantis ...\n",
      "83     Vivek Ramaswamy makes an impression at one New...\n",
      "88     Vivek Ramaswamy won the online attention conte...\n",
      "124    Vivek Ramaswamy cribs Obama’s famous ‘funny na...\n",
      "154    What our post-debate poll means for DeSantis, ...\n",
      "168    DeSantis group prepares $25 million ad buy in ...\n",
      "187    In Iowa, a Voter Asks DeSantis: Why Should I C...\n",
      "281    In Iowa, Pence Preaches Old-School Conservatis...\n",
      "Name: title, dtype: object\n",
      "-------------- CLUSTER #22\n",
      "147    Dick's Sporting Goods, Macy's Flash Warning Si...\n",
      "232    The average age of Congress is rising. That’s ...\n",
      "236    White House asks Congress to pass short-term s...\n",
      "245    Trump’s Truth Social facing a key funding dead...\n",
      "Name: title, dtype: object\n",
      "-------------- CLUSTER #23\n",
      "78     Some undersold moments from the first Republic...\n",
      "125    Nikki Haley Aims to Turn Her Debate Moment Int...\n",
      "174    ‘No Place for Hate in America,’ Haley Says, Re...\n",
      "271    U.S. Added 187,000 Jobs in August and Unemploy...\n",
      "308    The top 10 Republican presidential candidates ...\n",
      "Name: title, dtype: object\n",
      "-------------- CLUSTER #24\n",
      "52     ‘This is the Wild West’: Long police wait time...\n",
      "55     New York City shark attack victim had 5 surger...\n",
      "68     California machete-wielding attacker injures m...\n",
      "121    'Cherished' college student stabbed 107 times ...\n",
      "303    California handymen recover bicycle after chas...\n",
      "Name: title, dtype: object\n",
      "-------------- CLUSTER #25\n",
      "2      Wisconsin deer farm infected with fatal brain ...\n",
      "42     Gilgo Beach murder victims forgotten during ye...\n",
      "80     Georgia mom confirmed dead two years after she...\n",
      "100    U.S. Says It Will Take Time to Confirm Prigozh...\n",
      "115    Explosion Likely Downed Plane and Killed Prigo...\n",
      "167    Wisconsin Supreme Court flips liberal, creatin...\n",
      "Name: title, dtype: object\n",
      "-------------- CLUSTER #26\n",
      "61     LA mayor says city reaching out to city's home...\n",
      "324    LAX ticketing area evacuated for police to inv...\n",
      "327    Squatters ravage Wyoming downtown with stomach...\n",
      "Name: title, dtype: object\n",
      "-------------- CLUSTER #27\n",
      "173    With Jacksonville and Idalia, DeSantis Faces T...\n",
      "242    Biden surveys Hurricane Idalia’s damage in Flo...\n",
      "263    In Florida, Even a Hurricane Can’t Sweep Away ...\n",
      "266    Biden Won’t Meet DeSantis in Florida as He Tou...\n",
      "316    In Florida, a Hurricane Can’t Bring DeSantis a...\n",
      "Name: title, dtype: object\n",
      "-------------- CLUSTER #28\n",
      "20    Biden declares ‘new era’ of partnership with S...\n",
      "32    U.S. Seals Security Pact With Japan and South ...\n",
      "35    Biden Welcomes South Korea’s Efforts to Warm R...\n",
      "63    At summit with Japan and South Korea, ‘Bidenom...\n",
      "Name: title, dtype: object\n",
      "-------------- CLUSTER #29\n",
      "13     In Iowa, Republicans shrug off Trump’s legal w...\n",
      "31     Giuliani Repeatedly Sought Help With Legal Bil...\n",
      "225                  What was Giuliani allegedly hiding?\n",
      "229    Giuliani’s first big legal loss is a blisterin...\n",
      "Name: title, dtype: object\n",
      "-------------- CLUSTER #30\n",
      "146    Teamsters Ratify New Five-Year Labor Contract ...\n",
      "166    Biden’s course for U.S. on trade breaks with C...\n",
      "230    Justice Thomas details jet travel, property de...\n",
      "257    FTC, Amgen reach deal to allow $28 billion pha...\n",
      "305    Amgen's Deal for Horizon Therapeutics Clears K...\n",
      "Name: title, dtype: object\n",
      "-------------- CLUSTER #31\n",
      "64     NYC Fire Department battles 5-alarm inferno in...\n",
      "137    Dog rescued in Texas after ‘out of town’ owner...\n",
      "193    NYC police probing possible murder-suicide aft...\n",
      "199    Michigan woman pleads no contest in winter pon...\n",
      "215    Florida fire rescue chopper crashes into apart...\n",
      "Name: title, dtype: object\n",
      "-------------- CLUSTER #32\n",
      "73     ‘Abortion until the day of birth’ is evocative...\n",
      "74     Ratings for first Republican debate of 2024 co...\n",
      "75     For every six Republican debate-watchers, one ...\n",
      "82     When is the second Republican debate? What to ...\n",
      "86     Without Trump, Republican debate attacks focus...\n",
      "87     Trump gambles on finding strength in indictmen...\n",
      "104    When Is the Second Debate, and Who Will Be There?\n",
      "110    From a G.O.P. Stronghold, Debate Watchers Chee...\n",
      "Name: title, dtype: object\n",
      "-------------- CLUSTER #33\n",
      "5      Ahead of Maui visit, Biden’s governmental and ...\n",
      "93     Biden Didn’t Hear Question on Maui He Appeared...\n",
      "213    Utilities Face a Growing Dilemma: Shut Off Pow...\n",
      "276    Missing Colorado hiker's remains discovered af...\n",
      "296    There are still 385 missing after Maui fires. ...\n",
      "Name: title, dtype: object\n",
      "-------------- CLUSTER #34\n",
      "29     How Ron DeSantis Joined the ‘Ruling Class’ — a...\n",
      "30            The Education of Ron DeSantis: 5 Takeaways\n",
      "170    Where’s ‘Woke’? Republicans Test a Different E...\n",
      "258    Be glad you’re not in charge of raising money ...\n",
      "Name: title, dtype: object\n",
      "-------------- CLUSTER #35\n",
      "22     Pence Undercuts Trump’s Defense in Classified ...\n",
      "89     Fifty years of investigations on Trump, visual...\n",
      "101    Donald Trump marks return to X, formerly Twitt...\n",
      "107                                  Who Won the Debate?\n",
      "153    Tracking the Trump investigations and where th...\n",
      "164    Ramaswamy distills Republican race rhetoric to...\n",
      "165    The Trump Cases: Highlights from last week and...\n",
      "233    Who is running for president in 2024? Meet the...\n",
      "312    Ohio woman's murder revisited 35 years later b...\n",
      "Name: title, dtype: object\n",
      "-------------- CLUSTER #36\n",
      "72     Montgomery students can’t opt out of LGBTQ sto...\n",
      "118    Judge orders new trials for men convicted of u...\n",
      "138    Former Louisiana judge granted bond 3 years af...\n",
      "200    Michigan man convicted of $3.5M fraudulent N95...\n",
      "219    Oral surgeon convicted of feeding former patie...\n",
      "Name: title, dtype: object\n",
      "-------------- CLUSTER #37\n",
      "8      Trump to release taped interview with Tucker C...\n",
      "40        Inside Trump’s Decision to Skip the GOP Debate\n",
      "43     Trump Plans to Skip GOP Debate for Interview W...\n",
      "85     Tucker did his best to drag Trump into his pol...\n",
      "111    A Fox News Debate That Skimped on ‘the Elephan...\n",
      "142    Tucker Carlson's Trump Interview Showcases Pot...\n",
      "181    Samuel Wurzelbacher, Celebrated as ‘Joe the Pl...\n",
      "228    Trump’s habit of exaggerating his net worth la...\n",
      "Name: title, dtype: object\n",
      "-------------- CLUSTER #38\n",
      "23     How Many Republicans Have Qualified for the De...\n",
      "226    Ex-congressman Peter Meijer launches explorato...\n",
      "311    Peter Meijer, Republican Who Backed Impeachmen...\n",
      "Name: title, dtype: object\n",
      "-------------- CLUSTER #39\n",
      "28     Ron DeSantis must defend Trump, show emotion i...\n",
      "255    ‘We need 50 million bucks’ and other takeaways...\n",
      "268    DeSantis Super PAC’s Urgent Plea to Donors: ‘W...\n",
      "Name: title, dtype: object\n",
      "-------------- CLUSTER #40\n",
      "148    Deal on China Flights Signals U.S. Airlines' S...\n",
      "178    U.S. Fines American Airlines $4.1 Million for ...\n",
      "220    American Airlines Fined $4.1 Million for Keepi...\n",
      "328    Massachusetts troopers and FBI agents respond ...\n",
      "Name: title, dtype: object\n",
      "-------------- CLUSTER #41\n",
      "197    Texas coach Steve Sarkisian reacts to Big 12 c...\n",
      "259    Following Elon Musk’s lead, Big Tech is surren...\n",
      "298    Tesla Leads Race to Draw Federal Money for Cha...\n",
      "318    Social media users raised red flags about momm...\n",
      "Name: title, dtype: object\n",
      "-------------- CLUSTER #42\n",
      "0           Mugshots of the week: Aug. 13-19, 2023\n",
      "284    Mugshots of the week: Aug. 27-Sept. 2, 2023\n",
      "Name: title, dtype: object\n",
      "-------------- CLUSTER #43\n",
      "10     Medicine without doctors? State laws are chang...\n",
      "103    Pentagon Plans to Begin Training Ukrainian Pil...\n",
      "176    Pentagon Vows to Move Quickly to Buy More Dron...\n",
      "221       A.I. Brings the Robot Wingman to Aerial Combat\n",
      "269    Federal Officials Propose New Nursing Home Sta...\n",
      "289    NYPD to use drones to monitor backyard parties...\n",
      "300    U.S. Arms Makers Look Overseas to Boost Stockp...\n",
      "Name: title, dtype: object\n",
      "-------------- CLUSTER #44\n",
      "47     Southern California residents feel magnitude 5...\n",
      "59     Tropical Storm Hilary batters California with ...\n",
      "66     Hurricane Hilary evacuation warnings issued in...\n",
      "203    Florida Gov. DeSantis expands state of emergen...\n",
      "Name: title, dtype: object\n",
      "-------------- CLUSTER #45\n",
      "313    The Man Who Has Detroit, Wall Street and the W...\n",
      "334    Mexico places piece of Berlin wall near US bor...\n",
      "Name: title, dtype: object\n",
      "-------------- CLUSTER #46\n",
      "48     DOJ says D.C. officer’s suicide after Jan. 6 r...\n",
      "127    San Francisco officials unveil measures to com...\n",
      "205    San Diego bike theft suspect arrested after pl...\n",
      "210    San Francisco police union fires back at baker...\n",
      "Name: title, dtype: object\n",
      "-------------- CLUSTER #47\n",
      "60     Armed good Samaritan shoots suspect who allege...\n",
      "141    SoftBank Chip Unit Arm Files for IPO Likely to...\n",
      "211    UNC Chapel Hill all clear after lockdown, susp...\n",
      "330    South African Inquiry Rebuts U.S. Charge on Ru...\n",
      "Name: title, dtype: object\n",
      "-------------- CLUSTER #48\n",
      "201    Kansas community college reaches settlement in...\n",
      "248    Ex-employee sues CPAC alleging racial bias, de...\n",
      "302    Spectrum Customers Lose ESPN as U.S. Open, Col...\n",
      "332    DC begins enforcing curfew to deter youth crim...\n",
      "Name: title, dtype: object\n",
      "-------------- CLUSTER #49\n",
      "98     Albert Quie, Conservative Who Was Ahead of His...\n",
      "180    Americans Still Put Their Trust in Juries. Wil...\n",
      "209    Parents of Maine teen who died on school-spons...\n",
      "217    Don Sundquist, Two-Term Tennessee Governor, Is...\n",
      "235    Former U.N. ambassador Bill Richardson is dead...\n",
      "261    Bill Richardson Reveled in Role of Freelance E...\n",
      "264    Bill Richardson, Champion of Americans Held Ov...\n",
      "Name: title, dtype: object\n",
      "-------------- CLUSTER #50\n",
      "79     The winners and losers from the first Republic...\n",
      "224    Abortion fight unites the left and rattles the...\n",
      "246    McCain’s political heirs carry on his fight ag...\n",
      "Name: title, dtype: object\n",
      "-------------- CLUSTER #51\n",
      "152    Why Trump’s trial dates make his 2024 campaign...\n",
      "156    Trump’s D.C. election-obstruction trial schedu...\n",
      "158    Meadows testifies in Atlanta; March trial date...\n",
      "172    Judge Sets Trial Date in March for Trump’s Fed...\n",
      "177              A New Trial Date. A New Primary Season.\n",
      "183    Hearings in Two Trump Jan. 6 Cases Set for Monday\n",
      "250    How Trump’s March 4 trial date works with the ...\n",
      "253    Trump’s Georgia trial is readied for TV, while...\n",
      "Name: title, dtype: object\n",
      "-------------- CLUSTER #52\n",
      "1      House Republicans Begin Investigating Willis a...\n",
      "27     Trump could be booked in violent Atlanta jail ...\n",
      "91     Why Are Trump’s Accused Co-Conspirators Smilin...\n",
      "94     Trump’s Mug Shot Is Released After Booking at ...\n",
      "114    Why Jenna Ellis and Other Trump Co-Conspirator...\n",
      "Name: title, dtype: object\n",
      "-------------- CLUSTER #53\n",
      "280    Burning Man festival told to 'shelter in place...\n",
      "335    Death at Burning Man festival investigated as ...\n",
      "Name: title, dtype: object\n",
      "-------------- CLUSTER #54\n",
      "14     FBI arrests officers who allegedly used police...\n",
      "53     Atlanta man arrested for impersonating police ...\n",
      "202    Georgia man arrested after 'Ding Dong Ditch' p...\n",
      "206    Florida dad arrested for 2021 manslaughter of ...\n",
      "256    Appeals court won’t block Trump deposition in ...\n",
      "278    Seattle police find 4 people dead in house fir...\n",
      "Name: title, dtype: object\n",
      "-------------- CLUSTER #55\n",
      "57     Gray Fire: Washington state cities Four Lakes,...\n",
      "67     Rhode Island tourist spot Block Island declare...\n",
      "122    Historic Block Island, RI, hotel to be demolis...\n",
      "Name: title, dtype: object\n",
      "-------------- CLUSTER #56\n",
      "7      Before investigating Hunter Biden, prosecutor ...\n",
      "19     At Camp David, Biden’s fondness for retreat ou...\n",
      "116    Missouri AG tells St. Louis mayor proposed gun...\n",
      "139    How Hard Should the Fed Squeeze to Reach 2% In...\n",
      "140         Car Prices Might Be Unsustainable for Buyers\n",
      "Name: title, dtype: object\n",
      "-------------- CLUSTER #57\n",
      "58     Florida library drop box severs unsuspecting w...\n",
      "132    Judge sides with Vermont grad school that cove...\n",
      "143    'WITNESSING A MIRACLE': Here’s what happened a...\n",
      "145    Florida school officials apologize for separat...\n",
      "294    Teen killed, adult wounded in shooting outside...\n",
      "321    Florida’s Congressional Map Illegally Hurt Bla...\n",
      "Name: title, dtype: object\n",
      "-------------- CLUSTER #58\n",
      "9      DeSantis allies scramble to clarify after he c...\n",
      "252    Highways are the next antiabortion target. One...\n",
      "283    Family of pilot killed in Texas air show crash...\n",
      "286    Texas law requiring some drunken drivers to pa...\n",
      "326    Arizona 10-year-old caught speeding in car as ...\n",
      "333    Alleged drunk driver accidentally reports hims...\n",
      "Name: title, dtype: object\n",
      "-------------- CLUSTER #59\n",
      "3      The often startling numbers behind Trump’s ind...\n",
      "4        4 things revealed by Trump’s Georgia indictment\n",
      "144    New York serial rape, robbery suspect indicted...\n",
      "192    Sheriff indicted for machine gun conspiracy sc...\n",
      "249    Brian Kemp ushers his party away from the Trum...\n",
      "251               The patterns of out-of-state abortions\n",
      "288    ‘Looking for scalps’: Green Beret never charge...\n",
      "Name: title, dtype: object\n"
     ]
    }
   ],
   "source": [
    "for cluster in range(NUM_CLUSTERS):\n",
    "    print(\"-------------- CLUSTER #\" + str(cluster))\n",
    "    print(data.loc[data['group'] == cluster]['title'])"
   ],
   "metadata": {
    "collapsed": false,
    "ExecuteTime": {
     "end_time": "2023-09-04T06:32:39.182735Z",
     "start_time": "2023-09-04T06:32:39.175980Z"
    }
   }
  },
  {
   "cell_type": "code",
   "execution_count": null,
   "outputs": [],
   "source": [],
   "metadata": {
    "collapsed": false
   }
  }
 ],
 "metadata": {
  "kernelspec": {
   "display_name": "Python 3",
   "language": "python",
   "name": "python3"
  },
  "language_info": {
   "codemirror_mode": {
    "name": "ipython",
    "version": 2
   },
   "file_extension": ".py",
   "mimetype": "text/x-python",
   "name": "python",
   "nbconvert_exporter": "python",
   "pygments_lexer": "ipython2",
   "version": "2.7.6"
  }
 },
 "nbformat": 4,
 "nbformat_minor": 0
}

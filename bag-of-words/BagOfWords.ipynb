{
 "cells": [
  {
   "cell_type": "code",
   "execution_count": 1,
   "metadata": {
    "collapsed": true,
    "ExecuteTime": {
     "end_time": "2023-09-03T20:59:39.906741Z",
     "start_time": "2023-09-03T20:59:38.823820Z"
    }
   },
   "outputs": [],
   "source": [
    "import pandas as pd\n",
    "import numpy as np\n",
    "\n",
    "from sklearn.feature_extraction.text import CountVectorizer\n",
    "from sklearn.feature_extraction.text import TfidfTransformer\n",
    "\n",
    "from sklearn.cluster import KMeans\n",
    "\n",
    "from sklearn.decomposition import TruncatedSVD\n",
    "from sklearn.pipeline import make_pipeline\n",
    "from sklearn.preprocessing import Normalizer\n",
    "\n",
    "from nltk.stem.snowball import SnowballStemmer\n",
    "\n",
    "import string"
   ]
  },
  {
   "cell_type": "code",
   "execution_count": 2,
   "outputs": [],
   "source": [
    "# read in data\n",
    "DATA_FP = \"datasets/MINDlarge_train/news.tsv\"\n",
    "\n",
    "data = pd.read_csv(DATA_FP, sep='\\t')"
   ],
   "metadata": {
    "collapsed": false,
    "ExecuteTime": {
     "end_time": "2023-09-03T20:59:40.651123Z",
     "start_time": "2023-09-03T20:59:39.907306Z"
    }
   }
  },
  {
   "cell_type": "code",
   "execution_count": 3,
   "outputs": [],
   "source": [
    "# add column labels and combine title and abstract\n",
    "data.columns = ['id', 'category', 'subcategory', 'title', 'abstract', 'url', 'title entities', 'abstract entities']\n",
    "data = data.fillna(\"\")\n",
    "combined = pd.DataFrame(data[\"title\"] + \"; \" + data[\"abstract\"], columns=[\"text\"])"
   ],
   "metadata": {
    "collapsed": false,
    "ExecuteTime": {
     "end_time": "2023-09-03T20:59:40.709115Z",
     "start_time": "2023-09-03T20:59:40.668702Z"
    }
   }
  },
  {
   "cell_type": "code",
   "execution_count": 4,
   "outputs": [
    {
     "data": {
      "text/plain": "                                                text  \\\n0  Walmart Slashes Prices on Last-Generation iPad...   \n\n                                             stemmed  \n0  walmart slash price on lastgener ipad appl new...  ",
      "text/html": "<div>\n<style scoped>\n    .dataframe tbody tr th:only-of-type {\n        vertical-align: middle;\n    }\n\n    .dataframe tbody tr th {\n        vertical-align: top;\n    }\n\n    .dataframe thead th {\n        text-align: right;\n    }\n</style>\n<table border=\"1\" class=\"dataframe\">\n  <thead>\n    <tr style=\"text-align: right;\">\n      <th></th>\n      <th>text</th>\n      <th>stemmed</th>\n    </tr>\n  </thead>\n  <tbody>\n    <tr>\n      <th>0</th>\n      <td>Walmart Slashes Prices on Last-Generation iPad...</td>\n      <td>walmart slash price on lastgener ipad appl new...</td>\n    </tr>\n  </tbody>\n</table>\n</div>"
     },
     "execution_count": 4,
     "metadata": {},
     "output_type": "execute_result"
    }
   ],
   "source": [
    "# Stemming\n",
    "stemmer = SnowballStemmer(\"english\", ignore_stopwords=True)\n",
    "\n",
    "combined['stemmed'] = combined['text'].apply(\n",
    "    lambda x:\n",
    "        ' '.join([\n",
    "            stemmer.stem(word) for word in x.translate(\n",
    "                str.maketrans('', '', string.punctuation) # remove punctuation\n",
    "            ).split(' ')\n",
    "        ])\n",
    ")\n",
    "\n",
    "combined.head(1)"
   ],
   "metadata": {
    "collapsed": false,
    "ExecuteTime": {
     "end_time": "2023-09-03T20:59:57.776885Z",
     "start_time": "2023-09-03T20:59:40.710702Z"
    }
   }
  },
  {
   "cell_type": "code",
   "execution_count": 5,
   "outputs": [
    {
     "data": {
      "text/plain": "(101526, 73623)"
     },
     "execution_count": 5,
     "metadata": {},
     "output_type": "execute_result"
    }
   ],
   "source": [
    "# create bag of words\n",
    "count_vect = CountVectorizer(\n",
    "    stop_words=\"english\",\n",
    "    # ngram_range=(1,2) # count words and pairs of words\n",
    ")\n",
    "X_train_counts = count_vect.fit_transform(combined['stemmed'])\n",
    "X_train_counts.shape"
   ],
   "metadata": {
    "collapsed": false,
    "ExecuteTime": {
     "end_time": "2023-09-03T20:59:59.497997Z",
     "start_time": "2023-09-03T20:59:57.784228Z"
    }
   }
  },
  {
   "cell_type": "code",
   "execution_count": 6,
   "outputs": [
    {
     "name": "stdout",
     "output_type": "stream",
     "text": [
      "None\n"
     ]
    }
   ],
   "source": [
    "print(count_vect.vocabulary_.get(u'president'))"
   ],
   "metadata": {
    "collapsed": false,
    "ExecuteTime": {
     "end_time": "2023-09-03T20:59:59.500098Z",
     "start_time": "2023-09-03T20:59:59.498337Z"
    }
   }
  },
  {
   "cell_type": "markdown",
   "source": [],
   "metadata": {
    "collapsed": false
   }
  },
  {
   "cell_type": "code",
   "execution_count": 7,
   "outputs": [
    {
     "data": {
      "text/plain": "(101526, 73623)"
     },
     "execution_count": 7,
     "metadata": {},
     "output_type": "execute_result"
    }
   ],
   "source": [
    "# tfidf = Term Frequency times Inverse Document Frequency\n",
    "# removes weighting based on text document length\n",
    "tfidf_transformer = TfidfTransformer()\n",
    "X_tfidf = tfidf_transformer.fit_transform(X_train_counts)\n",
    "X_tfidf.shape"
   ],
   "metadata": {
    "collapsed": false,
    "ExecuteTime": {
     "end_time": "2023-09-03T20:59:59.589746Z",
     "start_time": "2023-09-03T20:59:59.501671Z"
    }
   }
  },
  {
   "cell_type": "code",
   "execution_count": 8,
   "outputs": [
    {
     "name": "stdout",
     "output_type": "stream",
     "text": [
      "Explained variance of the SVD step: 11.0%\n"
     ]
    }
   ],
   "source": [
    "# perform lsa (reduce size of dataset)\n",
    "lsa = make_pipeline(TruncatedSVD(n_components=100), Normalizer(copy=False))\n",
    "X_lsa = lsa.fit_transform(X_tfidf)\n",
    "explained_variance = lsa[0].explained_variance_ratio_.sum()\n",
    "\n",
    "print(f\"Explained variance of the SVD step: {explained_variance * 100:.1f}%\")"
   ],
   "metadata": {
    "collapsed": false,
    "ExecuteTime": {
     "end_time": "2023-09-03T21:00:11.488384Z",
     "start_time": "2023-09-03T20:59:59.590464Z"
    }
   }
  },
  {
   "cell_type": "code",
   "execution_count": 9,
   "outputs": [],
   "source": [
    "NUM_CLUSTERS = 100"
   ],
   "metadata": {
    "collapsed": false,
    "ExecuteTime": {
     "end_time": "2023-09-03T21:00:11.492216Z",
     "start_time": "2023-09-03T21:00:11.489533Z"
    }
   }
  },
  {
   "cell_type": "code",
   "execution_count": 10,
   "outputs": [
    {
     "name": "stdout",
     "output_type": "stream",
     "text": [
      "Number of elements assigned to each cluster: [ 947 1025 1450 1759  952 1216  499  749 1061  832  643  628 1002 1373\n",
      " 1200  823 1897  903  710 1422 1013  694 1524 1294 1653  593  598  614\n",
      " 1346 1856  929 2233 1067 1178 1424  652 1064  747  555  591  756 1606\n",
      " 1412  440 1592 1033  757 1283 2089  859  496 1457  805 1192  790  913\n",
      " 1262 1546  936  822  636  904  817  405  392  399  972  995 1244 1886\n",
      "  669  822  590  812  816  751 1157 1313  473 1294 1110  583  785  565\n",
      "  839  828  700 1312 1058 1009 1234 1035 1610 1142  934  906  548 1224\n",
      "  836 1159]\n"
     ]
    }
   ],
   "source": [
    "# cluster (k-means)\n",
    "kmeans = KMeans(\n",
    "    n_clusters=NUM_CLUSTERS\n",
    "    ,\n",
    "    max_iter=100,\n",
    "    n_init=1,\n",
    ").fit(X_lsa)\n",
    "cluster_ids, cluster_sizes = np.unique(kmeans.labels_, return_counts=True)\n",
    "print(f\"Number of elements assigned to each cluster: {cluster_sizes}\")"
   ],
   "metadata": {
    "collapsed": false,
    "ExecuteTime": {
     "end_time": "2023-09-03T21:00:15.964141Z",
     "start_time": "2023-09-03T21:00:11.495582Z"
    }
   }
  },
  {
   "cell_type": "code",
   "execution_count": 11,
   "outputs": [
    {
     "name": "stdout",
     "output_type": "stream",
     "text": [
      "Cluster 0: halloween costum candi celebr parti trickortreat treat kid dress famili \n",
      "Cluster 1: 2019 octob award novemb season sport year star oct news \n",
      "Cluster 2: compani deal appl friday store new googl watch peopl million \n",
      "Cluster 3: like just fan star want famili play said thing come \n",
      "Cluster 4: close road store lane near street traffic water bridg closur \n",
      "Cluster 5: famili kill miss help die children say sign live son \n",
      "Cluster 6: event look week ticket time pick check weekend date locat \n",
      "Cluster 7: chicago teacher strike bear union deal public school mayor end \n",
      "Cluster 8: hous white trump impeach pelosi democrat presid committe speaker vote \n",
      "Cluster 9: school footbal high playoff team week game score friday night \n",
      "Cluster 10: nation washington seri world secur servic redskin fan cardin dc \n",
      "Cluster 11: woman said charg polic car fort worth miss arrest dog \n",
      "Cluster 12: time save year chang end daylight come just want event \n",
      "Cluster 13: counti sheriff offic deputi said road offici accord say arrest \n",
      "Cluster 14: charg arrest man murder woman face accus court alleg death \n",
      "Cluster 15: 2020 democrat presidenti nfl year race sign announc candid big \n",
      "Cluster 16: polic offic said man arrest investig suspect say depart accord \n",
      "Cluster 17: watch player protest kong hong jame nba basketbal coach video \n",
      "Cluster 18: raven bengal jackson baltimor cincinnati lamar vs sunday nfl quarterback \n",
      "Cluster 19: night score point win game loss boston celtic season monday \n",
      "Cluster 20: day veteran photo nation thanksgiv sport like octob big hour \n",
      "Cluster 21: st loui paul night counti 2020 work 10 start citi \n",
      "Cluster 22: season start basketbal holiday game play nba 201920 team open \n",
      "Cluster 23: best deal rank 2019 buy world everi time list food \n",
      "Cluster 24: state penn ohio iowa unit oklahoma everi year texa law \n",
      "Cluster 25: investig trump ukrain presid offici impeach report giuliani biden hous \n",
      "Cluster 26: red detroit wing manag sox offic boston work yanke coach \n",
      "Cluster 27: news morn link headlin octob 2019 articl reader trend recent \n",
      "Cluster 28: offici said hotel peopl build water rock collaps hard new \n",
      "Cluster 29: school student high district teacher counti bus board public elementari \n",
      "Cluster 30: power rank outag pge custom wind shutoff california storm area \n",
      "Cluster 31: new york orlean jersey citi england compani help appl come \n",
      "Cluster 32: patriot england bradi tom new belichick raven defens nfl gordon \n",
      "Cluster 33: car driver hit vehicl woman drive road polic crash said \n",
      "Cluster 34: home hous famili insid said new sale resid live firefight \n",
      "Cluster 35: weather today forecast week histori octob 2019 novemb news wbz \n",
      "Cluster 36: elect vote voter race poll tuesday democrat kentucki ballot republican \n",
      "Cluster 37: airport flight plane intern airlin land chicago air american travel \n",
      "Cluster 38: weather forecast snow cold today temperatur rain winter storm wind \n",
      "Cluster 39: fall fan make park season year celtic loss watch best \n",
      "Cluster 40: eagl cowboy vike bear philadelphia sunday player dalla pederson week \n",
      "Cluster 41: impeach inquiri trump hear hous public presid democrat republican ukrain \n",
      "Cluster 42: million plan compani year new project tax announc build public \n",
      "Cluster 43: sign said zodiac newslett 2020 famili astro defens deal team \n",
      "Cluster 44: citi kansa council mayor oklahoma york year new plan said \n",
      "Cluster 45: shoot shot polic dead injur man kill suspect offic investig \n",
      "Cluster 46: court suprem case judg feder rule charg end trump daca \n",
      "Cluster 47: week 10 nfl game bye footbal rank 11 player pick \n",
      "Cluster 48: trump presid donald ukrain impeach white syria say campaign biden \n",
      "Cluster 49: race playoff driver cup nascar final seri texa win championship \n",
      "Cluster 50: busi spot photo rate neighborhood rundown open know number crunch \n",
      "Cluster 51: man polic shot charg kill arrest said say die accus \n",
      "Cluster 52: ufc fight vs 244 night event espn diaz loss masvid \n",
      "Cluster 53: make chang peopl way thing help fall want big money \n",
      "Cluster 54: chief mahom patrick bronco kansa denver sunday titan texan injuri \n",
      "Cluster 55: michigan state footbal penn ann arbor saturday wolverin big dame \n",
      "Cluster 56: restaur food new eat thanksgiv open truck start best chicken \n",
      "Cluster 57: game play injuri season sunday point miss run time saturday \n",
      "Cluster 58: thanksgiv holiday recip turkey food season christma day home make \n",
      "Cluster 59: syria turkey trump isi leader albaghdadi presid troop forc raid \n",
      "Cluster 60: angel los laker jame ram team lebron play night food \n",
      "Cluster 61: san 49er francisco seahawk cardin panther defens nfl antonio injuri \n",
      "Cluster 62: veteran day honor militari help parad free servic serv war \n",
      "Cluster 63: adopt pet center list dog cat brows puppi good anim \n",
      "Cluster 64: news link trend headlin articl reader local recent houston austin \n",
      "Cluster 65: cum elijah rep baltimor die maryland congressman thursday hous death \n",
      "Cluster 66: colt dolphin texan miami defens indianapoli houston sunday play week \n",
      "Cluster 67: know need thing dont want start everyth just big holiday \n",
      "Cluster 68: world seri nation astro game washington win houston fan nat \n",
      "Cluster 69: crash kill driver road polic vehicl highway counti truck near \n",
      "Cluster 70: dog adopt anim rescu pet woman said 10 run famili \n",
      "Cluster 71: jet cowboy giant york dalla adam night new sunday week \n",
      "Cluster 72: storm wind rain power florida area tropic tornado texa north \n",
      "Cluster 73: apart rent price curious amen dollar budget goe estat far \n",
      "Cluster 74: park plan nation fall lot woman area near neighborhood saturday \n",
      "Cluster 75: florida south beach state miami storm start coach tropic coast \n",
      "Cluster 76: coach head said team basketbal season manag player footbal florida \n",
      "Cluster 77: open thread new restaur store busi locat close door newest \n",
      "Cluster 78: photo busi spot rate rundown best number citi crunch hoodlin \n",
      "Cluster 79: report injuri accord new investig say million health time news \n",
      "Cluster 80: california wildfir wind evacu burn firefight angel los southern home \n",
      "Cluster 81: steeler pittsburgh dolphin week charger injuri defens colt ram game \n",
      "Cluster 82: lion detroit bear packer vike vs minnesota stafford red giant \n",
      "Cluster 83: offic polic fort worth woman shot kill shoot sheriff texa \n",
      "Cluster 84: vs game thread watch preview predict bengal 49er highlight open \n",
      "Cluster 85: snow cold temperatur weather winter rain record expect morn area \n",
      "Cluster 86: student colleg univers school campus said report death offici teacher \n",
      "Cluster 87: win number jackpot powerbal draw saturday victori score tiger season \n",
      "Cluster 88: health hospit offici help death care cancer said peopl medic \n",
      "Cluster 89: footbal colleg playoff rank week game team player season night \n",
      "Cluster 90: democrat candid 2020 presidenti warren biden debat campaign joe elizabeth \n",
      "Cluster 91: brown cleveland ohio seahawk mayfield sunday bronco baker nfl play \n",
      "Cluster 92: year ago award end 10 near million time new sinc \n",
      "Cluster 93: help peopl chang way make work health need food like \n",
      "Cluster 94: astro yanke houston seri alc game cole york manag pitch \n",
      "Cluster 95: look like rental does lowend new event good rent apart \n",
      "Cluster 96: texa north big dalla worth fort state defens race kansa \n",
      "Cluster 97: team nfl player play season leagu game playoff win look \n",
      "Cluster 98: trade deadlin deal nfl jet william ram report pick tuesday \n",
      "Cluster 99: say peopl offici want famili work thing like use plan \n"
     ]
    }
   ],
   "source": [
    "# get top words in each cluster\n",
    "original_space_centroids = lsa[0].inverse_transform(kmeans.cluster_centers_)\n",
    "order_centroids = original_space_centroids.argsort()[:, ::-1]\n",
    "terms = count_vect.get_feature_names_out()\n",
    "\n",
    "for i in range(NUM_CLUSTERS):\n",
    "    print(f\"Cluster {i}: \", end=\"\")\n",
    "    for ind in order_centroids[i, :10]:\n",
    "        print(f\"{terms[ind]} \", end=\"\")\n",
    "    print()"
   ],
   "metadata": {
    "collapsed": false,
    "ExecuteTime": {
     "end_time": "2023-09-03T21:00:16.621725Z",
     "start_time": "2023-09-03T21:00:15.972019Z"
    }
   }
  },
  {
   "cell_type": "code",
   "execution_count": 11,
   "outputs": [],
   "source": [],
   "metadata": {
    "collapsed": false,
    "ExecuteTime": {
     "end_time": "2023-09-03T21:00:16.623199Z",
     "start_time": "2023-09-03T21:00:16.621156Z"
    }
   }
  }
 ],
 "metadata": {
  "kernelspec": {
   "display_name": "Python 3",
   "language": "python",
   "name": "python3"
  },
  "language_info": {
   "codemirror_mode": {
    "name": "ipython",
    "version": 2
   },
   "file_extension": ".py",
   "mimetype": "text/x-python",
   "name": "python",
   "nbconvert_exporter": "python",
   "pygments_lexer": "ipython2",
   "version": "2.7.6"
  }
 },
 "nbformat": 4,
 "nbformat_minor": 0
}

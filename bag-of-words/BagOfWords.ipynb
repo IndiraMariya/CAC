{
 "cells": [
  {
   "cell_type": "code",
   "execution_count": 1,
   "metadata": {
    "collapsed": true,
    "ExecuteTime": {
     "end_time": "2023-09-03T21:08:29.061174Z",
     "start_time": "2023-09-03T21:08:27.862108Z"
    }
   },
   "outputs": [],
   "source": [
    "import pandas as pd\n",
    "import numpy as np\n",
    "\n",
    "from sklearn.feature_extraction.text import CountVectorizer\n",
    "from sklearn.feature_extraction.text import TfidfTransformer\n",
    "\n",
    "from sklearn.cluster import KMeans\n",
    "\n",
    "from sklearn.decomposition import TruncatedSVD\n",
    "from sklearn.pipeline import make_pipeline\n",
    "from sklearn.preprocessing import Normalizer\n",
    "\n",
    "from nltk.stem.snowball import SnowballStemmer\n",
    "\n",
    "import string"
   ]
  },
  {
   "cell_type": "code",
   "execution_count": 2,
   "outputs": [],
   "source": [
    "# read in data\n",
    "DATA_FP = \"datasets/MINDlarge_train/news.tsv\"\n",
    "\n",
    "data = pd.read_csv(DATA_FP, sep='\\t')"
   ],
   "metadata": {
    "collapsed": false,
    "ExecuteTime": {
     "end_time": "2023-09-03T21:08:30.507408Z",
     "start_time": "2023-09-03T21:08:29.061658Z"
    }
   }
  },
  {
   "cell_type": "code",
   "execution_count": 3,
   "outputs": [],
   "source": [
    "# add column labels and combine title and abstract\n",
    "data.columns = ['id', 'category', 'subcategory', 'title', 'abstract', 'url', 'title entities', 'abstract entities']\n",
    "data = data.fillna(\"\")\n",
    "\n",
    "# remove data from specific topics\n",
    "filter = ~data['category'].isin(['sports'])\n",
    "data = data[filter]\n",
    "\n",
    "combined = pd.DataFrame(data[\"title\"] + \"; \" + data[\"abstract\"], columns=[\"text\"])"
   ],
   "metadata": {
    "collapsed": false,
    "ExecuteTime": {
     "end_time": "2023-09-03T21:08:30.599177Z",
     "start_time": "2023-09-03T21:08:30.524493Z"
    }
   }
  },
  {
   "cell_type": "code",
   "execution_count": 4,
   "outputs": [
    {
     "data": {
      "text/plain": "                                                text  \\\n0  Walmart Slashes Prices on Last-Generation iPad...   \n\n                                             stemmed  \n0  walmart slash price on lastgener ipad appl new...  ",
      "text/html": "<div>\n<style scoped>\n    .dataframe tbody tr th:only-of-type {\n        vertical-align: middle;\n    }\n\n    .dataframe tbody tr th {\n        vertical-align: top;\n    }\n\n    .dataframe thead th {\n        text-align: right;\n    }\n</style>\n<table border=\"1\" class=\"dataframe\">\n  <thead>\n    <tr style=\"text-align: right;\">\n      <th></th>\n      <th>text</th>\n      <th>stemmed</th>\n    </tr>\n  </thead>\n  <tbody>\n    <tr>\n      <th>0</th>\n      <td>Walmart Slashes Prices on Last-Generation iPad...</td>\n      <td>walmart slash price on lastgener ipad appl new...</td>\n    </tr>\n  </tbody>\n</table>\n</div>"
     },
     "execution_count": 4,
     "metadata": {},
     "output_type": "execute_result"
    }
   ],
   "source": [
    "# Stemming\n",
    "stemmer = SnowballStemmer(\"english\", ignore_stopwords=True)\n",
    "\n",
    "combined['stemmed'] = combined['text'].apply(\n",
    "    lambda x:\n",
    "        ' '.join([\n",
    "            stemmer.stem(word) for word in x.translate(\n",
    "                str.maketrans('', '', string.punctuation) # remove punctuation\n",
    "            ).split(' ')\n",
    "        ])\n",
    ")\n",
    "\n",
    "combined.head(1)"
   ],
   "metadata": {
    "collapsed": false,
    "ExecuteTime": {
     "end_time": "2023-09-03T21:08:42.873480Z",
     "start_time": "2023-09-03T21:08:30.599556Z"
    }
   }
  },
  {
   "cell_type": "code",
   "execution_count": 5,
   "outputs": [
    {
     "data": {
      "text/plain": "(69506, 60148)"
     },
     "execution_count": 5,
     "metadata": {},
     "output_type": "execute_result"
    }
   ],
   "source": [
    "# create bag of words\n",
    "count_vect = CountVectorizer(\n",
    "    stop_words=\"english\",\n",
    "    # ngram_range=(1,2) # count words and pairs of words\n",
    ")\n",
    "X_train_counts = count_vect.fit_transform(combined['stemmed'])\n",
    "X_train_counts.shape"
   ],
   "metadata": {
    "collapsed": false,
    "ExecuteTime": {
     "end_time": "2023-09-03T21:08:44.104218Z",
     "start_time": "2023-09-03T21:08:42.936555Z"
    }
   }
  },
  {
   "cell_type": "code",
   "execution_count": 6,
   "outputs": [
    {
     "name": "stdout",
     "output_type": "stream",
     "text": [
      "None\n"
     ]
    }
   ],
   "source": [
    "print(count_vect.vocabulary_.get(u'president'))"
   ],
   "metadata": {
    "collapsed": false,
    "ExecuteTime": {
     "end_time": "2023-09-03T21:08:44.111123Z",
     "start_time": "2023-09-03T21:08:44.103825Z"
    }
   }
  },
  {
   "cell_type": "markdown",
   "source": [],
   "metadata": {
    "collapsed": false
   }
  },
  {
   "cell_type": "code",
   "execution_count": 7,
   "outputs": [
    {
     "data": {
      "text/plain": "(69506, 60148)"
     },
     "execution_count": 7,
     "metadata": {},
     "output_type": "execute_result"
    }
   ],
   "source": [
    "# tfidf = Term Frequency times Inverse Document Frequency\n",
    "# removes weighting based on text document length\n",
    "tfidf_transformer = TfidfTransformer()\n",
    "X_tfidf = tfidf_transformer.fit_transform(X_train_counts)\n",
    "X_tfidf.shape"
   ],
   "metadata": {
    "collapsed": false,
    "ExecuteTime": {
     "end_time": "2023-09-03T21:08:44.173278Z",
     "start_time": "2023-09-03T21:08:44.109897Z"
    }
   }
  },
  {
   "cell_type": "code",
   "execution_count": 8,
   "outputs": [
    {
     "name": "stdout",
     "output_type": "stream",
     "text": [
      "Explained variance of the SVD step: 12.1%\n"
     ]
    }
   ],
   "source": [
    "# perform lsa (reduce size of dataset)\n",
    "lsa = make_pipeline(TruncatedSVD(n_components=100), Normalizer(copy=False))\n",
    "X_lsa = lsa.fit_transform(X_tfidf)\n",
    "explained_variance = lsa[0].explained_variance_ratio_.sum()\n",
    "\n",
    "print(f\"Explained variance of the SVD step: {explained_variance * 100:.1f}%\")"
   ],
   "metadata": {
    "collapsed": false,
    "ExecuteTime": {
     "end_time": "2023-09-03T21:08:51.161197Z",
     "start_time": "2023-09-03T21:08:44.174493Z"
    }
   }
  },
  {
   "cell_type": "code",
   "execution_count": 9,
   "outputs": [],
   "source": [
    "NUM_CLUSTERS = 100"
   ],
   "metadata": {
    "collapsed": false,
    "ExecuteTime": {
     "end_time": "2023-09-03T21:08:51.192765Z",
     "start_time": "2023-09-03T21:08:51.168545Z"
    }
   }
  },
  {
   "cell_type": "code",
   "execution_count": 10,
   "outputs": [
    {
     "name": "stdout",
     "output_type": "stream",
     "text": [
      "Number of elements assigned to each cluster: [ 775  538  471  615 1294  868  886  427  694  550  609 1477  706  361\n",
      "  713  916  483  619 1081 1295  212  691  905 1686  762  750  594  399\n",
      "  702  472  470  560  901  331  874  441  730  841  532  755  544  803\n",
      "  733  620  951  764  378  540  653  664  355  390  783  399  836  959\n",
      " 1192 1800  766  841  818  504  712  592 1105  713  528  729  506  955\n",
      "  488  360  548 1061 1168  612  569 1095  177 1081  309  795  712  784\n",
      "  348  620  820  622  730  698  261  477  454  346  770  647  327  460\n",
      "  448  600]\n"
     ]
    }
   ],
   "source": [
    "# cluster (k-means)\n",
    "kmeans = KMeans(\n",
    "    n_clusters=NUM_CLUSTERS\n",
    "    ,\n",
    "    max_iter=100,\n",
    "    n_init=1,\n",
    ").fit(X_lsa)\n",
    "cluster_ids, cluster_sizes = np.unique(kmeans.labels_, return_counts=True)\n",
    "print(f\"Number of elements assigned to each cluster: {cluster_sizes}\")"
   ],
   "metadata": {
    "collapsed": false,
    "ExecuteTime": {
     "end_time": "2023-09-03T21:08:53.489344Z",
     "start_time": "2023-09-03T21:08:51.176866Z"
    }
   }
  },
  {
   "cell_type": "code",
   "execution_count": 11,
   "outputs": [
    {
     "name": "stdout",
     "output_type": "stream",
     "text": [
      "Cluster 0: weather today forecast week wbz novemb rain latest morn histori \n",
      "Cluster 1: deal friday black best amazon sale buy offer appl earli \n",
      "Cluster 2: 2019 award star peopl music celebr countri best year novemb \n",
      "Cluster 3: trump ukrain presid investig impeach giuliani offici biden testifi testimoni \n",
      "Cluster 4: new york jersey orlean open work come look appl year \n",
      "Cluster 5: hous white trump pelosi presid speaker committe chief impeach meet \n",
      "Cluster 6: famili kill mexico american member children live son friend die \n",
      "Cluster 7: hotel rock collaps hard orlean construct site build new crane \n",
      "Cluster 8: million tax year plan compani near sale florida ohio project \n",
      "Cluster 9: florida sign south vote beach storm zodiac million tropic central \n",
      "Cluster 10: shoot dead injur shot suspect polic victim kill investig school \n",
      "Cluster 11: trump presid donald white ukrain say campaign ralli impeach said \n",
      "Cluster 12: power pge outag custom shutoff wind electr util california restor \n",
      "Cluster 13: fort worth offic texa woman polic shot kill jefferson atatiana \n",
      "Cluster 14: storm wind rain tropic tornado weather gulf area coast flood \n",
      "Cluster 15: make way want like thing recip work chang money mistak \n",
      "Cluster 16: new york citi jersey time report mayor presid bloomberg counti \n",
      "Cluster 17: st loui paul number counti area win citi powerbal jackpot \n",
      "Cluster 18: year ago near million time prison new life 10 sentenc \n",
      "Cluster 19: crash kill driver road polic counti highway injur vehicl near \n",
      "Cluster 20: apart look like rent rental lowend deal does price day \n",
      "Cluster 21: veteran day honor militari parad servic help serv free war \n",
      "Cluster 22: restaur open new food bar close locat chef spot owner \n",
      "Cluster 23: school high student district board teacher bus counti elementari parent \n",
      "Cluster 24: elect vote voter poll tuesday ballot race 2019 result mayor \n",
      "Cluster 25: park nation lot fall new neighborhood near theme citi garag \n",
      "Cluster 26: syria turkey troop trump presid forc withdraw northern kurd turkish \n",
      "Cluster 27: photo spot rate busi rundown citi number hoodlin crunch best \n",
      "Cluster 28: 2020 presidenti look bloomberg run announc race year campaign make \n",
      "Cluster 29: fall weekend season best appl time pumpkin forecast park festiv \n",
      "Cluster 30: republican kentucki race elect governor democrat bevin senat gov beshear \n",
      "Cluster 31: miss search girl polic help seen famili said man week \n",
      "Cluster 32: best 2019 rank buy world food way fall list look \n",
      "Cluster 33: crash plane airport flight air pilot land kill airlin small \n",
      "Cluster 34: impeach trump inquiri presid hous donald democrat hear republican vote \n",
      "Cluster 35: investig ukrain report alleg hill giuliani attorney probe work feder \n",
      "Cluster 36: health care flu hospit offici vape death mental work medic \n",
      "Cluster 37: driver truck hit vehicl bus kill road polic crash struck \n",
      "Cluster 38: arrest polic charg suspect man murder say offic shoot deputi \n",
      "Cluster 39: woman polic kill said say help arrest die charg home \n",
      "Cluster 40: biden warren joe elizabeth democrat presid poll presidenti candid sander \n",
      "Cluster 41: firefight evacu angel los wildfir burn said near home california \n",
      "Cluster 42: day nation photo celebr hour peopl veteran just alert use \n",
      "Cluster 43: charg murder face arrest accus assault death alleg guilti sexual \n",
      "Cluster 44: open new busi store locat door newest restaur shop spot \n",
      "Cluster 45: california wildfir wind evacu southern burn los angel firefight state \n",
      "Cluster 46: news morn headlin cnn brief octob 2019 articl reader stori \n",
      "Cluster 47: beach virginia palm long florida west counti water miami island \n",
      "Cluster 48: airport flight plane intern airlin travel land american air passeng \n",
      "Cluster 49: time save daylight end start like year fall just chang \n",
      "Cluster 50: adopt pet center list cat dog brows puppi good need \n",
      "Cluster 51: googl appl app compani microsoft pixel use new iphon work \n",
      "Cluster 52: impeach hear inquiri public hous democrat republican trump ukrain committe \n",
      "Cluster 53: protest hong kong polic street china report demonstr presid month \n",
      "Cluster 54: counti sheriff deputi road offici said york accord issu kincad \n",
      "Cluster 55: car hit vehicl crash driver drive buy polic man road \n",
      "Cluster 56: compani said work microsoft facebook employe stock like million use \n",
      "Cluster 57: star game photo celebr video like come just night weekend \n",
      "Cluster 58: food store truck eat drink groceri best new restaur product \n",
      "Cluster 59: halloween costum candi celebr trickortreat treat parti trickortr kid spooki \n",
      "Cluster 60: world seri game war nation washington vegan time place million \n",
      "Cluster 61: die death famili said year hospit cancer cum man dead \n",
      "Cluster 62: student univers colleg campus school said high video report year \n",
      "Cluster 63: court suprem daca judg case hear feder trump rule immigr \n",
      "Cluster 64: snow cold weather temperatur winter record rain morn forecast tuesday \n",
      "Cluster 65: dog anim rescu owner shelter pet servic famili adopt home \n",
      "Cluster 66: water break main road flood resid lake street drink area \n",
      "Cluster 67: democrat presidenti candid 2020 debat race campaign warren bloomberg primari \n",
      "Cluster 68: microsoft compani stock buy game report amazon work million market \n",
      "Cluster 69: know need thing want dont just everyth like way good \n",
      "Cluster 70: chang climat way world make new ohio life say sign \n",
      "Cluster 71: teacher chicago strike union school worker deal vote contract class \n",
      "Cluster 72: polic shoot man shot offic investig hospit dead said say \n",
      "Cluster 73: state unit law everi depart offici new year univers say \n",
      "Cluster 74: citi kansa council mayor york oklahoma year vote plan street \n",
      "Cluster 75: look like does rental lowend thing live video life rent \n",
      "Cluster 76: apart rent curious amen dollar goe estat far real price \n",
      "Cluster 77: home hous insid sale live famili estat new damag million \n",
      "Cluster 78: trailer offici star busi just road hit vehicl north driver \n",
      "Cluster 79: polic offic said investig suspect depart man say arrest accord \n",
      "Cluster 80: leader albaghdadi isi raid abu bakr death kill syria trump \n",
      "Cluster 81: report accord new say news releas million sexual cnns microsoft \n",
      "Cluster 82: say offici want compani like new north just star author \n",
      "Cluster 83: close road lane store traffic bridg street closur reopen highway \n",
      "Cluster 84: news trend headlin articl reader link local recent austin houston \n",
      "Cluster 85: offic counti sheriff deputi said arrest shot man investig say \n",
      "Cluster 86: man polic shot said kill say stab die arrest accus \n",
      "Cluster 87: help need work way ask famili peopl use program life \n",
      "Cluster 88: holiday season christma gift shop tree light make thanksgiv start \n",
      "Cluster 89: peopl said kill live million like thing award mani time \n",
      "Cluster 90: chicago teacher polic strike mayor citi union tax lightfoot snow \n",
      "Cluster 91: appl googl iphon app pro new watch use fall tv \n",
      "Cluster 92: man charg kill murder arrest face death accus polic guilti \n",
      "Cluster 93: cancer breast die women said health help chang use battl \n",
      "Cluster 94: plan build million project announc develop north new warren look \n",
      "Cluster 95: week event check entertain fun ticket look pick date locat \n",
      "Cluster 96: cum elijah rep baltimor congressman maryland die funer rememb 68 \n",
      "Cluster 97: busi neighborhood spot rate open popular photo know local rundown \n",
      "Cluster 98: hospit children health medic said die taken patient child care \n",
      "Cluster 99: thanksgiv recip turkey make cook holiday dinner food dish tast \n"
     ]
    }
   ],
   "source": [
    "# get top words in each cluster\n",
    "original_space_centroids = lsa[0].inverse_transform(kmeans.cluster_centers_)\n",
    "order_centroids = original_space_centroids.argsort()[:, ::-1]\n",
    "terms = count_vect.get_feature_names_out()\n",
    "\n",
    "for i in range(NUM_CLUSTERS):\n",
    "    print(f\"Cluster {i}: \", end=\"\")\n",
    "    for ind in order_centroids[i, :10]:\n",
    "        print(f\"{terms[ind]} \", end=\"\")\n",
    "    print()"
   ],
   "metadata": {
    "collapsed": false,
    "ExecuteTime": {
     "end_time": "2023-09-03T21:08:54.197341Z",
     "start_time": "2023-09-03T21:08:53.493361Z"
    }
   }
  },
  {
   "cell_type": "code",
   "execution_count": 11,
   "outputs": [],
   "source": [],
   "metadata": {
    "collapsed": false,
    "ExecuteTime": {
     "end_time": "2023-09-03T21:08:54.199049Z",
     "start_time": "2023-09-03T21:08:54.196793Z"
    }
   }
  }
 ],
 "metadata": {
  "kernelspec": {
   "display_name": "Python 3",
   "language": "python",
   "name": "python3"
  },
  "language_info": {
   "codemirror_mode": {
    "name": "ipython",
    "version": 2
   },
   "file_extension": ".py",
   "mimetype": "text/x-python",
   "name": "python",
   "nbconvert_exporter": "python",
   "pygments_lexer": "ipython2",
   "version": "2.7.6"
  }
 },
 "nbformat": 4,
 "nbformat_minor": 0
}

{
 "cells": [
  {
   "cell_type": "code",
   "execution_count": 45,
   "metadata": {
    "collapsed": true,
    "ExecuteTime": {
     "end_time": "2023-09-03T06:09:58.327046Z",
     "start_time": "2023-09-03T06:09:58.325434Z"
    }
   },
   "outputs": [],
   "source": [
    "import pandas as pd\n",
    "import numpy as np\n",
    "\n",
    "from sklearn.feature_extraction.text import CountVectorizer\n",
    "from sklearn.feature_extraction.text import TfidfTransformer\n",
    "\n",
    "from sklearn.cluster import KMeans\n",
    "\n",
    "from sklearn.decomposition import TruncatedSVD\n",
    "from sklearn.pipeline import make_pipeline\n",
    "from sklearn.preprocessing import Normalizer"
   ]
  },
  {
   "cell_type": "code",
   "execution_count": 46,
   "outputs": [],
   "source": [
    "# read in data\n",
    "DATA_FP = \"datasets/MINDlarge_train/news.tsv\"\n",
    "\n",
    "data = pd.read_csv(DATA_FP, sep='\\t')"
   ],
   "metadata": {
    "collapsed": false,
    "ExecuteTime": {
     "end_time": "2023-09-03T06:09:59.883836Z",
     "start_time": "2023-09-03T06:09:58.825545Z"
    }
   }
  },
  {
   "cell_type": "code",
   "execution_count": 47,
   "outputs": [],
   "source": [
    "# add column labels and combine title and abstract\n",
    "data.columns = ['id', 'category', 'subcategory', 'title', 'abstract', 'url', 'title entities', 'abstract entities']\n",
    "data = data.fillna(\"\")\n",
    "combined = pd.DataFrame(data[\"title\"] + \";\" + data[\"abstract\"], columns=[\"text\"])"
   ],
   "metadata": {
    "collapsed": false,
    "ExecuteTime": {
     "end_time": "2023-09-03T06:10:00.388876Z",
     "start_time": "2023-09-03T06:10:00.305164Z"
    }
   }
  },
  {
   "cell_type": "code",
   "execution_count": 48,
   "outputs": [
    {
     "data": {
      "text/plain": "(101526, 73970)"
     },
     "execution_count": 48,
     "metadata": {},
     "output_type": "execute_result"
    }
   ],
   "source": [
    "# create bag of words\n",
    "count_vect = CountVectorizer(stop_words=\"english\")\n",
    "X_train_counts = count_vect.fit_transform(combined['text'])\n",
    "X_train_counts.shape"
   ],
   "metadata": {
    "collapsed": false,
    "ExecuteTime": {
     "end_time": "2023-09-03T06:10:02.722362Z",
     "start_time": "2023-09-03T06:10:00.892180Z"
    }
   }
  },
  {
   "cell_type": "code",
   "execution_count": 49,
   "outputs": [
    {
     "name": "stdout",
     "output_type": "stream",
     "text": [
      "52036\n"
     ]
    }
   ],
   "source": [
    "print(count_vect.vocabulary_.get(u'president'))"
   ],
   "metadata": {
    "collapsed": false,
    "ExecuteTime": {
     "end_time": "2023-09-03T06:10:03.388817Z",
     "start_time": "2023-09-03T06:10:03.374615Z"
    }
   }
  },
  {
   "cell_type": "markdown",
   "source": [],
   "metadata": {
    "collapsed": false
   }
  },
  {
   "cell_type": "code",
   "execution_count": 50,
   "outputs": [
    {
     "data": {
      "text/plain": "(101526, 73970)"
     },
     "execution_count": 50,
     "metadata": {},
     "output_type": "execute_result"
    }
   ],
   "source": [
    "# tfidf = Term Frequency times Inverse Document Frequency\n",
    "# removes weighting based on text document length\n",
    "tfidf_transformer = TfidfTransformer()\n",
    "X_tfidf = tfidf_transformer.fit_transform(X_train_counts)\n",
    "X_tfidf.shape"
   ],
   "metadata": {
    "collapsed": false,
    "ExecuteTime": {
     "end_time": "2023-09-03T06:10:06.129600Z",
     "start_time": "2023-09-03T06:10:05.993095Z"
    }
   }
  },
  {
   "cell_type": "code",
   "execution_count": null,
   "outputs": [],
   "source": [
    "# perform lsa (reduce size of dataset)\n",
    "lsa = make_pipeline(TruncatedSVD(n_components=100), Normalizer(copy=False))\n",
    "X_lsa = lsa.fit_transform(X_tfidf)\n",
    "explained_variance = lsa[0].explained_variance_ratio_.sum()\n",
    "\n",
    "print(f\"Explained variance of the SVD step: {explained_variance * 100:.1f}%\")"
   ],
   "metadata": {
    "collapsed": false,
    "is_executing": true,
    "ExecuteTime": {
     "start_time": "2023-09-03T06:10:06.966270Z"
    }
   }
  },
  {
   "cell_type": "code",
   "execution_count": null,
   "outputs": [],
   "source": [
    "NUM_CLUSTERS = 10"
   ],
   "metadata": {
    "collapsed": false,
    "is_executing": true
   }
  },
  {
   "cell_type": "code",
   "execution_count": 43,
   "outputs": [
    {
     "name": "stdout",
     "output_type": "stream",
     "text": [
      "Number of elements assigned to each cluster: [15815  6591 20386 18446 12362  5368  8084  5728  4013  4733]\n"
     ]
    }
   ],
   "source": [
    "# cluster (k-means)\n",
    "kmeans = KMeans(\n",
    "    n_clusters=NUM_CLUSTERS\n",
    "    ,\n",
    "    max_iter=100,\n",
    "    n_init=1,\n",
    ").fit(X_lsa)\n",
    "cluster_ids, cluster_sizes = np.unique(kmeans.labels_, return_counts=True)\n",
    "print(f\"Number of elements assigned to each cluster: {cluster_sizes}\")"
   ],
   "metadata": {
    "collapsed": false,
    "ExecuteTime": {
     "end_time": "2023-09-03T06:04:19.633621Z",
     "start_time": "2023-09-03T06:04:18.880991Z"
    }
   }
  },
  {
   "cell_type": "code",
   "execution_count": 44,
   "outputs": [
    {
     "name": "stdout",
     "output_type": "stream",
     "text": [
      "Cluster 0: city county said million people years 000 says officials california \n",
      "Cluster 1: new york orleans jersey city restaurant 2020 years open england \n",
      "Cluster 2: school 2019 world best day 2020 series news high halloween \n",
      "Cluster 3: game season team win night coach football nfl play injury \n",
      "Cluster 4: make just like know time family people years need thanksgiving \n",
      "Cluster 5: trump president impeachment donald house inquiry ukraine democrats white says \n",
      "Cluster 6: police man crash said car woman county shooting say killed \n",
      "Cluster 7: week weather snow forecast cold today temperatures 10 football rain \n",
      "Cluster 8: state penn michigan ohio iowa football florida oklahoma saturday said \n",
      "Cluster 9: year old girl boy missing said years family killed charged \n"
     ]
    }
   ],
   "source": [
    "# get top words in each cluster\n",
    "original_space_centroids = lsa[0].inverse_transform(kmeans.cluster_centers_)\n",
    "order_centroids = original_space_centroids.argsort()[:, ::-1]\n",
    "terms = count_vect.get_feature_names_out()\n",
    "\n",
    "for i in range(NUM_CLUSTERS):\n",
    "    print(f\"Cluster {i}: \", end=\"\")\n",
    "    for ind in order_centroids[i, :10]:\n",
    "        print(f\"{terms[ind]} \", end=\"\")\n",
    "    print()"
   ],
   "metadata": {
    "collapsed": false,
    "ExecuteTime": {
     "end_time": "2023-09-03T06:04:20.855606Z",
     "start_time": "2023-09-03T06:04:20.641586Z"
    }
   }
  },
  {
   "cell_type": "code",
   "execution_count": null,
   "outputs": [],
   "source": [],
   "metadata": {
    "collapsed": false
   }
  }
 ],
 "metadata": {
  "kernelspec": {
   "display_name": "Python 3",
   "language": "python",
   "name": "python3"
  },
  "language_info": {
   "codemirror_mode": {
    "name": "ipython",
    "version": 2
   },
   "file_extension": ".py",
   "mimetype": "text/x-python",
   "name": "python",
   "nbconvert_exporter": "python",
   "pygments_lexer": "ipython2",
   "version": "2.7.6"
  }
 },
 "nbformat": 4,
 "nbformat_minor": 0
}

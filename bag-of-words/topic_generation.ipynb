{
 "cells": [
  {
   "cell_type": "code",
   "execution_count": 1,
   "metadata": {
    "collapsed": true,
    "ExecuteTime": {
     "end_time": "2023-10-17T06:12:47.321518Z",
     "start_time": "2023-10-17T06:12:45.867287Z"
    }
   },
   "outputs": [],
   "source": [
    "import pandas as pd\n",
    "import spacy\n",
    "\n",
    "from utilities import getSupabaseClient"
   ]
  },
  {
   "cell_type": "code",
   "execution_count": 2,
   "outputs": [
    {
     "name": "stdout",
     "output_type": "stream",
     "text": [
      "establishing client\n",
      "Data read from supabase\n"
     ]
    }
   ],
   "source": [
    "supabase = getSupabaseClient()\n",
    "\n",
    "response = supabase.table('Data').select(\"*\").execute()\n",
    "print(\"Data read from supabase\")\n"
   ],
   "metadata": {
    "collapsed": false,
    "ExecuteTime": {
     "end_time": "2023-10-17T06:12:48.363465Z",
     "start_time": "2023-10-17T06:12:47.972769Z"
    }
   }
  },
  {
   "cell_type": "code",
   "execution_count": 6,
   "outputs": [
    {
     "data": {
      "text/plain": "       id                                              title  \\\n0    4309              Jimmy Carter está por cumplir 99 años   \n1    4314  Biden Officials Focus on African Crises at Uni...   \n2    4381  Inside the Unfounded Claim That DeSantis Abuse...   \n3    5458  Scalise Bid for Speaker Meets Resistance From ...   \n4    4590  Copyright board delivers blow to 'Terminator' ...   \n..    ...                                                ...   \n995  4811  As Jimmy Carter turns 99, he’s still full of s...   \n996  4817  MSNBC anchor Alicia Menendez won’t cover senat...   \n997  4818  Squabbles, missteps and a struggle to govern: ...   \n998  4808  How the right’s elevation of Robert F. Kennedy...   \n999  4887  Calif. Gov. Newsom plans to name Emily’s List ...   \n\n                                           description topic  \n0    Carter ya era el presidente más longevo de la ...   105  \n1    Secretary of State Antony J. Blinken met on Fr...    66  \n2    A former prisoner’s story of mistreatment at t...    18  \n3    The holdouts who refuse to back the No. 2 Repu...    58  \n4    An award-winning image was denied U.S. copyrig...    22  \n..                                                 ...   ...  \n995  Seven months after entering hospice, Jimmy Car...   105  \n996  The journalist daughter of Sen. Bob Menendez s...    97  \n997  Republicans last week offered a kaleidoscopic ...    65  \n998  Kennedy might run with a third party, which co...    16  \n999  Three other Democrats from the House are vying...    10  \n\n[1000 rows x 4 columns]",
      "text/html": "<div>\n<style scoped>\n    .dataframe tbody tr th:only-of-type {\n        vertical-align: middle;\n    }\n\n    .dataframe tbody tr th {\n        vertical-align: top;\n    }\n\n    .dataframe thead th {\n        text-align: right;\n    }\n</style>\n<table border=\"1\" class=\"dataframe\">\n  <thead>\n    <tr style=\"text-align: right;\">\n      <th></th>\n      <th>id</th>\n      <th>title</th>\n      <th>description</th>\n      <th>topic</th>\n    </tr>\n  </thead>\n  <tbody>\n    <tr>\n      <th>0</th>\n      <td>4309</td>\n      <td>Jimmy Carter está por cumplir 99 años</td>\n      <td>Carter ya era el presidente más longevo de la ...</td>\n      <td>105</td>\n    </tr>\n    <tr>\n      <th>1</th>\n      <td>4314</td>\n      <td>Biden Officials Focus on African Crises at Uni...</td>\n      <td>Secretary of State Antony J. Blinken met on Fr...</td>\n      <td>66</td>\n    </tr>\n    <tr>\n      <th>2</th>\n      <td>4381</td>\n      <td>Inside the Unfounded Claim That DeSantis Abuse...</td>\n      <td>A former prisoner’s story of mistreatment at t...</td>\n      <td>18</td>\n    </tr>\n    <tr>\n      <th>3</th>\n      <td>5458</td>\n      <td>Scalise Bid for Speaker Meets Resistance From ...</td>\n      <td>The holdouts who refuse to back the No. 2 Repu...</td>\n      <td>58</td>\n    </tr>\n    <tr>\n      <th>4</th>\n      <td>4590</td>\n      <td>Copyright board delivers blow to 'Terminator' ...</td>\n      <td>An award-winning image was denied U.S. copyrig...</td>\n      <td>22</td>\n    </tr>\n    <tr>\n      <th>...</th>\n      <td>...</td>\n      <td>...</td>\n      <td>...</td>\n      <td>...</td>\n    </tr>\n    <tr>\n      <th>995</th>\n      <td>4811</td>\n      <td>As Jimmy Carter turns 99, he’s still full of s...</td>\n      <td>Seven months after entering hospice, Jimmy Car...</td>\n      <td>105</td>\n    </tr>\n    <tr>\n      <th>996</th>\n      <td>4817</td>\n      <td>MSNBC anchor Alicia Menendez won’t cover senat...</td>\n      <td>The journalist daughter of Sen. Bob Menendez s...</td>\n      <td>97</td>\n    </tr>\n    <tr>\n      <th>997</th>\n      <td>4818</td>\n      <td>Squabbles, missteps and a struggle to govern: ...</td>\n      <td>Republicans last week offered a kaleidoscopic ...</td>\n      <td>65</td>\n    </tr>\n    <tr>\n      <th>998</th>\n      <td>4808</td>\n      <td>How the right’s elevation of Robert F. Kennedy...</td>\n      <td>Kennedy might run with a third party, which co...</td>\n      <td>16</td>\n    </tr>\n    <tr>\n      <th>999</th>\n      <td>4887</td>\n      <td>Calif. Gov. Newsom plans to name Emily’s List ...</td>\n      <td>Three other Democrats from the House are vying...</td>\n      <td>10</td>\n    </tr>\n  </tbody>\n</table>\n<p>1000 rows × 4 columns</p>\n</div>"
     },
     "execution_count": 6,
     "metadata": {},
     "output_type": "execute_result"
    }
   ],
   "source": [
    "data = [[article['id'], article['articleData']['title'], article['articleData']['description'], article['topic']] for article in response.data if article is not None and article[\"articleData\"] is not None]\n",
    "data = pd.DataFrame(data, columns=[\"id\", \"title\", \"description\", \"topic\"])\n",
    "\n",
    "# deal with missing data\n",
    "data = data.fillna(\"\")\n",
    "\n",
    "data"
   ],
   "metadata": {
    "collapsed": false,
    "ExecuteTime": {
     "end_time": "2023-10-17T06:13:07.645459Z",
     "start_time": "2023-10-17T06:13:07.642008Z"
    }
   }
  },
  {
   "cell_type": "code",
   "execution_count": 9,
   "outputs": [
    {
     "data": {
      "text/plain": "                                                  text    id topic\n0    Jimmy Carter está por cumplir 99 años; Carter ...  4309   105\n1    Biden Officials Focus on African Crises at Uni...  4314    66\n2    Inside the Unfounded Claim That DeSantis Abuse...  4381    18\n3    Scalise Bid for Speaker Meets Resistance From ...  5458    58\n4    Copyright board delivers blow to 'Terminator' ...  4590    22\n..                                                 ...   ...   ...\n995  As Jimmy Carter turns 99, he’s still full of s...  4811   105\n996  MSNBC anchor Alicia Menendez won’t cover senat...  4817    97\n997  Squabbles, missteps and a struggle to govern: ...  4818    65\n998  How the right’s elevation of Robert F. Kennedy...  4808    16\n999  Calif. Gov. Newsom plans to name Emily’s List ...  4887    10\n\n[1000 rows x 3 columns]",
      "text/html": "<div>\n<style scoped>\n    .dataframe tbody tr th:only-of-type {\n        vertical-align: middle;\n    }\n\n    .dataframe tbody tr th {\n        vertical-align: top;\n    }\n\n    .dataframe thead th {\n        text-align: right;\n    }\n</style>\n<table border=\"1\" class=\"dataframe\">\n  <thead>\n    <tr style=\"text-align: right;\">\n      <th></th>\n      <th>text</th>\n      <th>id</th>\n      <th>topic</th>\n    </tr>\n  </thead>\n  <tbody>\n    <tr>\n      <th>0</th>\n      <td>Jimmy Carter está por cumplir 99 años; Carter ...</td>\n      <td>4309</td>\n      <td>105</td>\n    </tr>\n    <tr>\n      <th>1</th>\n      <td>Biden Officials Focus on African Crises at Uni...</td>\n      <td>4314</td>\n      <td>66</td>\n    </tr>\n    <tr>\n      <th>2</th>\n      <td>Inside the Unfounded Claim That DeSantis Abuse...</td>\n      <td>4381</td>\n      <td>18</td>\n    </tr>\n    <tr>\n      <th>3</th>\n      <td>Scalise Bid for Speaker Meets Resistance From ...</td>\n      <td>5458</td>\n      <td>58</td>\n    </tr>\n    <tr>\n      <th>4</th>\n      <td>Copyright board delivers blow to 'Terminator' ...</td>\n      <td>4590</td>\n      <td>22</td>\n    </tr>\n    <tr>\n      <th>...</th>\n      <td>...</td>\n      <td>...</td>\n      <td>...</td>\n    </tr>\n    <tr>\n      <th>995</th>\n      <td>As Jimmy Carter turns 99, he’s still full of s...</td>\n      <td>4811</td>\n      <td>105</td>\n    </tr>\n    <tr>\n      <th>996</th>\n      <td>MSNBC anchor Alicia Menendez won’t cover senat...</td>\n      <td>4817</td>\n      <td>97</td>\n    </tr>\n    <tr>\n      <th>997</th>\n      <td>Squabbles, missteps and a struggle to govern: ...</td>\n      <td>4818</td>\n      <td>65</td>\n    </tr>\n    <tr>\n      <th>998</th>\n      <td>How the right’s elevation of Robert F. Kennedy...</td>\n      <td>4808</td>\n      <td>16</td>\n    </tr>\n    <tr>\n      <th>999</th>\n      <td>Calif. Gov. Newsom plans to name Emily’s List ...</td>\n      <td>4887</td>\n      <td>10</td>\n    </tr>\n  </tbody>\n</table>\n<p>1000 rows × 3 columns</p>\n</div>"
     },
     "execution_count": 9,
     "metadata": {},
     "output_type": "execute_result"
    }
   ],
   "source": [
    "# combine text fields\n",
    "combined = pd.DataFrame(data[\"title\"] + \"; \" + data[\"description\"], columns=[\"text\"])\n",
    "combined['id'] = data['id']\n",
    "combined['topic'] = data['topic']\n",
    "\n",
    "combined"
   ],
   "metadata": {
    "collapsed": false,
    "ExecuteTime": {
     "end_time": "2023-10-17T06:13:17.808019Z",
     "start_time": "2023-10-17T06:13:17.801869Z"
    }
   }
  },
  {
   "cell_type": "code",
   "execution_count": 10,
   "outputs": [
    {
     "data": {
      "text/plain": "    topic                                               text\n0       0  Hunter Biden Set to Be Arraigned Over Federal ...\n1       1  PG&E's $6 Billion Plan to Prevent Wildfires Is...\n2      10  Newsom facing competing pressures as he decide...\n3     100  As His Fraud Trial Begins, Trump Looks to Capi...\n4     101  Gaetz Moves to Oust McCarthy, Threatening His ...\n..    ...                                                ...\n114    95  Tennessee deputy seriously injured, ‘armed ind...\n115    96  The police chief who led a raid of a small Kan...\n116    97  N.J. governor calls on Menendez to resign from...\n117    98  UNESCO adds Ohio’s Hopewell Ceremonial Earthwo...\n118    99  Another element of Trump’s ‘rigged election’ n...\n\n[119 rows x 2 columns]",
      "text/html": "<div>\n<style scoped>\n    .dataframe tbody tr th:only-of-type {\n        vertical-align: middle;\n    }\n\n    .dataframe tbody tr th {\n        vertical-align: top;\n    }\n\n    .dataframe thead th {\n        text-align: right;\n    }\n</style>\n<table border=\"1\" class=\"dataframe\">\n  <thead>\n    <tr style=\"text-align: right;\">\n      <th></th>\n      <th>topic</th>\n      <th>text</th>\n    </tr>\n  </thead>\n  <tbody>\n    <tr>\n      <th>0</th>\n      <td>0</td>\n      <td>Hunter Biden Set to Be Arraigned Over Federal ...</td>\n    </tr>\n    <tr>\n      <th>1</th>\n      <td>1</td>\n      <td>PG&amp;E's $6 Billion Plan to Prevent Wildfires Is...</td>\n    </tr>\n    <tr>\n      <th>2</th>\n      <td>10</td>\n      <td>Newsom facing competing pressures as he decide...</td>\n    </tr>\n    <tr>\n      <th>3</th>\n      <td>100</td>\n      <td>As His Fraud Trial Begins, Trump Looks to Capi...</td>\n    </tr>\n    <tr>\n      <th>4</th>\n      <td>101</td>\n      <td>Gaetz Moves to Oust McCarthy, Threatening His ...</td>\n    </tr>\n    <tr>\n      <th>...</th>\n      <td>...</td>\n      <td>...</td>\n    </tr>\n    <tr>\n      <th>114</th>\n      <td>95</td>\n      <td>Tennessee deputy seriously injured, ‘armed ind...</td>\n    </tr>\n    <tr>\n      <th>115</th>\n      <td>96</td>\n      <td>The police chief who led a raid of a small Kan...</td>\n    </tr>\n    <tr>\n      <th>116</th>\n      <td>97</td>\n      <td>N.J. governor calls on Menendez to resign from...</td>\n    </tr>\n    <tr>\n      <th>117</th>\n      <td>98</td>\n      <td>UNESCO adds Ohio’s Hopewell Ceremonial Earthwo...</td>\n    </tr>\n    <tr>\n      <th>118</th>\n      <td>99</td>\n      <td>Another element of Trump’s ‘rigged election’ n...</td>\n    </tr>\n  </tbody>\n</table>\n<p>119 rows × 2 columns</p>\n</div>"
     },
     "execution_count": 10,
     "metadata": {},
     "output_type": "execute_result"
    }
   ],
   "source": [
    "grouped_data = combined.groupby('topic', as_index=False).agg({\"text\": ' '.join})\n",
    "grouped_data"
   ],
   "metadata": {
    "collapsed": false,
    "ExecuteTime": {
     "end_time": "2023-10-17T06:13:30.068292Z",
     "start_time": "2023-10-17T06:13:30.059977Z"
    }
   }
  },
  {
   "cell_type": "code",
   "execution_count": 25,
   "outputs": [],
   "source": [
    "test_text = grouped_data.iloc[1]['text']"
   ],
   "metadata": {
    "collapsed": false,
    "ExecuteTime": {
     "end_time": "2023-10-17T07:10:35.618052Z",
     "start_time": "2023-10-17T07:10:35.615587Z"
    }
   }
  },
  {
   "cell_type": "code",
   "execution_count": 26,
   "outputs": [
    {
     "data": {
      "text/plain": "entity\nCalifornia                                         15\n2020                                                2\nOrange County                                       2\nSouthern California Edison                          2\nChina                                               2\n52-year-old                                         2\nPG&E                                                1\n2                                                   1\n$7 million                                          1\nOakland                                             1\nSouthern California                                 1\nover 3 million                                      1\nFamily of                                           1\nPoint La Jolla                                      1\n34-year-old                                         1\nKaran Singh                                         1\nliqour                                              1\nWest Covina                                         1\nACLU                                                1\nTennessee                                           1\nThe American Civil Liberties Union of Tennessee     1\nCalifornia Highway Patrol                           1\nEureka                                              1\nBoomer Beach                                        1\nInyo County                                         1\nthe coming years                                    1\nLinda                                               1\nMar Beach                                           1\nPacifica                                            1\nFriday                                              1\nRicardo Lara                                        1\nHigh Sierra                                         1\nthe High Sierras                                    1\n$6 Billion                                          1\nearlier this month                                  1\nSunday                                              1\nSan Francisco                                       1\nthe National Park Service                           1\nNorthern California                                 1\nearly Monday                                        1\n4.8                                                 1\nThe Equal Employment Opportunity Commission         1\nName: count, dtype: int64"
     },
     "execution_count": 26,
     "metadata": {},
     "output_type": "execute_result"
    }
   ],
   "source": [
    "nlp = spacy.load(\"en_core_web_lg\", disable=[\"tok2vec\", \"tagger\", \"parser\", \"attribute_ruler\", \"lemmatizer\"])\n",
    "\n",
    "doc = nlp(test_text)\n",
    "entities = [(ent.text, ent.label_) for ent in doc.ents]\n",
    "\n",
    "ent_df = pd.DataFrame(entities, columns=[\"entity\", \"label\"])\n",
    "\n",
    "ent_df['entity'].value_counts()"
   ],
   "metadata": {
    "collapsed": false,
    "ExecuteTime": {
     "end_time": "2023-10-17T07:10:37.481160Z",
     "start_time": "2023-10-17T07:10:36.169415Z"
    }
   }
  },
  {
   "cell_type": "code",
   "execution_count": null,
   "outputs": [],
   "source": [],
   "metadata": {
    "collapsed": false
   }
  }
 ],
 "metadata": {
  "kernelspec": {
   "display_name": "Python 3",
   "language": "python",
   "name": "python3"
  },
  "language_info": {
   "codemirror_mode": {
    "name": "ipython",
    "version": 2
   },
   "file_extension": ".py",
   "mimetype": "text/x-python",
   "name": "python",
   "nbconvert_exporter": "python",
   "pygments_lexer": "ipython2",
   "version": "2.7.6"
  }
 },
 "nbformat": 4,
 "nbformat_minor": 0
}

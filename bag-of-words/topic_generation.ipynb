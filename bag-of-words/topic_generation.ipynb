{
 "cells": [
  {
   "cell_type": "code",
   "execution_count": 6,
   "metadata": {
    "collapsed": true,
    "ExecuteTime": {
     "end_time": "2023-10-24T05:12:25.635699Z",
     "start_time": "2023-10-24T05:12:25.635312Z"
    }
   },
   "outputs": [],
   "source": [
    "import pandas as pd\n",
    "import spacy\n",
    "\n",
    "from utilities import getSupabaseClient"
   ]
  },
  {
   "cell_type": "code",
   "execution_count": 7,
   "outputs": [
    {
     "name": "stdout",
     "output_type": "stream",
     "text": [
      "establishing client\n",
      "Data read from supabase\n"
     ]
    }
   ],
   "source": [
    "supabase = getSupabaseClient()\n",
    "\n",
    "response = supabase.table('Data').select(\"*\").execute()\n",
    "print(\"Data read from supabase\")\n"
   ],
   "metadata": {
    "collapsed": false,
    "ExecuteTime": {
     "end_time": "2023-10-24T05:12:27.393258Z",
     "start_time": "2023-10-24T05:12:26.886569Z"
    }
   }
  },
  {
   "cell_type": "code",
   "execution_count": 8,
   "outputs": [
    {
     "data": {
      "text/plain": "       id                                              title  \\\n0    5939  DeSantis Says He Would Cancel Student Visas of...   \n1    5938  DeSantis-Haley Rivalry Heats Up, With Attacks ...   \n2    5944  Trump Co-Defendant Says He Wants to Keep Lawye...   \n3    5391  Republican Support of Jordan for House Speaker...   \n4    6443  If Trump Trial Isn’t Broadcast Live, a Plea to...   \n..    ...                                                ...   \n690  5434  Michigan US Rep. Shri Thanedar renounces DSA m...   \n691  6034  Haley threatens to overtake DeSantis as Trump ...   \n692  6387  Son of Tennessee police chief wanted for shoot...   \n693  6388  Christian homeschooling parents sue California...   \n694  6389  Mother of slain Texas woman says long-haul tru...   \n\n                                           description topic  \n0    At a G.O.P. candidate showcase in Iowa, Gov. R...    98  \n1    As they vie to be the race’s Trump alternative...    11  \n2    A hearing brought to an apparent end the back ...    92  \n3    The feud between the former speaker and the No...     0  \n4    A request to broadcast one of Donald Trump’s f...    24  \n..                                                 ...   ...  \n690  U.S. Rep. Shri Thanedar, a Michigan Democrat, ...    37  \n691  Escalating frictions between the two candidate...    56  \n692  A Tennessee man wanted for allegedly shooting ...    48  \n693  A group of California Christian homeschooling ...     9  \n694  A New York trucker is charged with the murder ...    49  \n\n[695 rows x 4 columns]",
      "text/html": "<div>\n<style scoped>\n    .dataframe tbody tr th:only-of-type {\n        vertical-align: middle;\n    }\n\n    .dataframe tbody tr th {\n        vertical-align: top;\n    }\n\n    .dataframe thead th {\n        text-align: right;\n    }\n</style>\n<table border=\"1\" class=\"dataframe\">\n  <thead>\n    <tr style=\"text-align: right;\">\n      <th></th>\n      <th>id</th>\n      <th>title</th>\n      <th>description</th>\n      <th>topic</th>\n    </tr>\n  </thead>\n  <tbody>\n    <tr>\n      <th>0</th>\n      <td>5939</td>\n      <td>DeSantis Says He Would Cancel Student Visas of...</td>\n      <td>At a G.O.P. candidate showcase in Iowa, Gov. R...</td>\n      <td>98</td>\n    </tr>\n    <tr>\n      <th>1</th>\n      <td>5938</td>\n      <td>DeSantis-Haley Rivalry Heats Up, With Attacks ...</td>\n      <td>As they vie to be the race’s Trump alternative...</td>\n      <td>11</td>\n    </tr>\n    <tr>\n      <th>2</th>\n      <td>5944</td>\n      <td>Trump Co-Defendant Says He Wants to Keep Lawye...</td>\n      <td>A hearing brought to an apparent end the back ...</td>\n      <td>92</td>\n    </tr>\n    <tr>\n      <th>3</th>\n      <td>5391</td>\n      <td>Republican Support of Jordan for House Speaker...</td>\n      <td>The feud between the former speaker and the No...</td>\n      <td>0</td>\n    </tr>\n    <tr>\n      <th>4</th>\n      <td>6443</td>\n      <td>If Trump Trial Isn’t Broadcast Live, a Plea to...</td>\n      <td>A request to broadcast one of Donald Trump’s f...</td>\n      <td>24</td>\n    </tr>\n    <tr>\n      <th>...</th>\n      <td>...</td>\n      <td>...</td>\n      <td>...</td>\n      <td>...</td>\n    </tr>\n    <tr>\n      <th>690</th>\n      <td>5434</td>\n      <td>Michigan US Rep. Shri Thanedar renounces DSA m...</td>\n      <td>U.S. Rep. Shri Thanedar, a Michigan Democrat, ...</td>\n      <td>37</td>\n    </tr>\n    <tr>\n      <th>691</th>\n      <td>6034</td>\n      <td>Haley threatens to overtake DeSantis as Trump ...</td>\n      <td>Escalating frictions between the two candidate...</td>\n      <td>56</td>\n    </tr>\n    <tr>\n      <th>692</th>\n      <td>6387</td>\n      <td>Son of Tennessee police chief wanted for shoot...</td>\n      <td>A Tennessee man wanted for allegedly shooting ...</td>\n      <td>48</td>\n    </tr>\n    <tr>\n      <th>693</th>\n      <td>6388</td>\n      <td>Christian homeschooling parents sue California...</td>\n      <td>A group of California Christian homeschooling ...</td>\n      <td>9</td>\n    </tr>\n    <tr>\n      <th>694</th>\n      <td>6389</td>\n      <td>Mother of slain Texas woman says long-haul tru...</td>\n      <td>A New York trucker is charged with the murder ...</td>\n      <td>49</td>\n    </tr>\n  </tbody>\n</table>\n<p>695 rows × 4 columns</p>\n</div>"
     },
     "execution_count": 8,
     "metadata": {},
     "output_type": "execute_result"
    }
   ],
   "source": [
    "data = [[article['id'], article['articleData']['title'], article['articleData']['description'], article['topic']] for article in response.data if article is not None and article[\"articleData\"] is not None]\n",
    "data = pd.DataFrame(data, columns=[\"id\", \"title\", \"description\", \"topic\"])\n",
    "\n",
    "# deal with missing data\n",
    "data = data.fillna(\"\")\n",
    "\n",
    "data"
   ],
   "metadata": {
    "collapsed": false,
    "ExecuteTime": {
     "end_time": "2023-10-24T05:12:36.654774Z",
     "start_time": "2023-10-24T05:12:36.623333Z"
    }
   }
  },
  {
   "cell_type": "code",
   "execution_count": 9,
   "outputs": [
    {
     "data": {
      "text/plain": "                                                  text    id topic\n0    DeSantis Says He Would Cancel Student Visas of...  5939    98\n1    DeSantis-Haley Rivalry Heats Up, With Attacks ...  5938    11\n2    Trump Co-Defendant Says He Wants to Keep Lawye...  5944    92\n3    Republican Support of Jordan for House Speaker...  5391     0\n4    If Trump Trial Isn’t Broadcast Live, a Plea to...  6443    24\n..                                                 ...   ...   ...\n690  Michigan US Rep. Shri Thanedar renounces DSA m...  5434    37\n691  Haley threatens to overtake DeSantis as Trump ...  6034    56\n692  Son of Tennessee police chief wanted for shoot...  6387    48\n693  Christian homeschooling parents sue California...  6388     9\n694  Mother of slain Texas woman says long-haul tru...  6389    49\n\n[695 rows x 3 columns]",
      "text/html": "<div>\n<style scoped>\n    .dataframe tbody tr th:only-of-type {\n        vertical-align: middle;\n    }\n\n    .dataframe tbody tr th {\n        vertical-align: top;\n    }\n\n    .dataframe thead th {\n        text-align: right;\n    }\n</style>\n<table border=\"1\" class=\"dataframe\">\n  <thead>\n    <tr style=\"text-align: right;\">\n      <th></th>\n      <th>text</th>\n      <th>id</th>\n      <th>topic</th>\n    </tr>\n  </thead>\n  <tbody>\n    <tr>\n      <th>0</th>\n      <td>DeSantis Says He Would Cancel Student Visas of...</td>\n      <td>5939</td>\n      <td>98</td>\n    </tr>\n    <tr>\n      <th>1</th>\n      <td>DeSantis-Haley Rivalry Heats Up, With Attacks ...</td>\n      <td>5938</td>\n      <td>11</td>\n    </tr>\n    <tr>\n      <th>2</th>\n      <td>Trump Co-Defendant Says He Wants to Keep Lawye...</td>\n      <td>5944</td>\n      <td>92</td>\n    </tr>\n    <tr>\n      <th>3</th>\n      <td>Republican Support of Jordan for House Speaker...</td>\n      <td>5391</td>\n      <td>0</td>\n    </tr>\n    <tr>\n      <th>4</th>\n      <td>If Trump Trial Isn’t Broadcast Live, a Plea to...</td>\n      <td>6443</td>\n      <td>24</td>\n    </tr>\n    <tr>\n      <th>...</th>\n      <td>...</td>\n      <td>...</td>\n      <td>...</td>\n    </tr>\n    <tr>\n      <th>690</th>\n      <td>Michigan US Rep. Shri Thanedar renounces DSA m...</td>\n      <td>5434</td>\n      <td>37</td>\n    </tr>\n    <tr>\n      <th>691</th>\n      <td>Haley threatens to overtake DeSantis as Trump ...</td>\n      <td>6034</td>\n      <td>56</td>\n    </tr>\n    <tr>\n      <th>692</th>\n      <td>Son of Tennessee police chief wanted for shoot...</td>\n      <td>6387</td>\n      <td>48</td>\n    </tr>\n    <tr>\n      <th>693</th>\n      <td>Christian homeschooling parents sue California...</td>\n      <td>6388</td>\n      <td>9</td>\n    </tr>\n    <tr>\n      <th>694</th>\n      <td>Mother of slain Texas woman says long-haul tru...</td>\n      <td>6389</td>\n      <td>49</td>\n    </tr>\n  </tbody>\n</table>\n<p>695 rows × 3 columns</p>\n</div>"
     },
     "execution_count": 9,
     "metadata": {},
     "output_type": "execute_result"
    }
   ],
   "source": [
    "# combine text fields\n",
    "combined = pd.DataFrame(data[\"title\"] + \"; \" + data[\"description\"], columns=[\"text\"])\n",
    "combined['id'] = data['id']\n",
    "combined['topic'] = data['topic']\n",
    "\n",
    "combined"
   ],
   "metadata": {
    "collapsed": false,
    "ExecuteTime": {
     "end_time": "2023-10-24T05:12:39.050866Z",
     "start_time": "2023-10-24T05:12:39.043228Z"
    }
   }
  },
  {
   "cell_type": "code",
   "execution_count": 10,
   "outputs": [
    {
     "data": {
      "text/plain": "    topic                                               text\n0          To Build Momentum, Scott Tackles Race and Raci...\n1       0  Republican Support of Jordan for House Speaker...\n2       1  Early Intelligence Shows Hamas Attack Surprise...\n3      10  1st section of massive NYC landfill-to-park tr...\n4     100  In Israel, U.S. lawmakers witness war up close...\n..    ...                                                ...\n113    95  1 dead, 3 hurt after historic schooner's mast ...\n114    96  Hollywood Actors, Studios to Restart Contract ...\n115    97  Social Media Changed How Brands Talk to Us, bu...\n116    98  DeSantis Says He Would Cancel Student Visas of...\n117    99  A Push for Tech Hubs in Overlooked Places Pick...\n\n[118 rows x 2 columns]",
      "text/html": "<div>\n<style scoped>\n    .dataframe tbody tr th:only-of-type {\n        vertical-align: middle;\n    }\n\n    .dataframe tbody tr th {\n        vertical-align: top;\n    }\n\n    .dataframe thead th {\n        text-align: right;\n    }\n</style>\n<table border=\"1\" class=\"dataframe\">\n  <thead>\n    <tr style=\"text-align: right;\">\n      <th></th>\n      <th>topic</th>\n      <th>text</th>\n    </tr>\n  </thead>\n  <tbody>\n    <tr>\n      <th>0</th>\n      <td></td>\n      <td>To Build Momentum, Scott Tackles Race and Raci...</td>\n    </tr>\n    <tr>\n      <th>1</th>\n      <td>0</td>\n      <td>Republican Support of Jordan for House Speaker...</td>\n    </tr>\n    <tr>\n      <th>2</th>\n      <td>1</td>\n      <td>Early Intelligence Shows Hamas Attack Surprise...</td>\n    </tr>\n    <tr>\n      <th>3</th>\n      <td>10</td>\n      <td>1st section of massive NYC landfill-to-park tr...</td>\n    </tr>\n    <tr>\n      <th>4</th>\n      <td>100</td>\n      <td>In Israel, U.S. lawmakers witness war up close...</td>\n    </tr>\n    <tr>\n      <th>...</th>\n      <td>...</td>\n      <td>...</td>\n    </tr>\n    <tr>\n      <th>113</th>\n      <td>95</td>\n      <td>1 dead, 3 hurt after historic schooner's mast ...</td>\n    </tr>\n    <tr>\n      <th>114</th>\n      <td>96</td>\n      <td>Hollywood Actors, Studios to Restart Contract ...</td>\n    </tr>\n    <tr>\n      <th>115</th>\n      <td>97</td>\n      <td>Social Media Changed How Brands Talk to Us, bu...</td>\n    </tr>\n    <tr>\n      <th>116</th>\n      <td>98</td>\n      <td>DeSantis Says He Would Cancel Student Visas of...</td>\n    </tr>\n    <tr>\n      <th>117</th>\n      <td>99</td>\n      <td>A Push for Tech Hubs in Overlooked Places Pick...</td>\n    </tr>\n  </tbody>\n</table>\n<p>118 rows × 2 columns</p>\n</div>"
     },
     "execution_count": 10,
     "metadata": {},
     "output_type": "execute_result"
    }
   ],
   "source": [
    "grouped_data = combined.groupby('topic', as_index=False).agg({\"text\": ' '.join})\n",
    "grouped_data"
   ],
   "metadata": {
    "collapsed": false,
    "ExecuteTime": {
     "end_time": "2023-10-24T05:12:41.135409Z",
     "start_time": "2023-10-24T05:12:41.129721Z"
    }
   }
  },
  {
   "cell_type": "code",
   "execution_count": 11,
   "outputs": [],
   "source": [
    "test_text = grouped_data.iloc[1]['text']"
   ],
   "metadata": {
    "collapsed": false,
    "ExecuteTime": {
     "end_time": "2023-10-24T05:12:41.789373Z",
     "start_time": "2023-10-24T05:12:41.783985Z"
    }
   }
  },
  {
   "cell_type": "code",
   "execution_count": 12,
   "outputs": [
    {
     "data": {
      "text/plain": "entity\nHouse              71\nRepublicans        39\nJim Jordan         26\nKevin McCarthy     17\nOhio               16\n                   ..\n2024                1\nlast week           1\none                 1\nnearly 16 years     1\n2009                1\nName: count, Length: 84, dtype: int64"
     },
     "execution_count": 12,
     "metadata": {},
     "output_type": "execute_result"
    }
   ],
   "source": [
    "nlp = spacy.load(\"en_core_web_lg\", disable=[\"tok2vec\", \"tagger\", \"parser\", \"attribute_ruler\", \"lemmatizer\"])\n",
    "\n",
    "doc = nlp(test_text)\n",
    "entities = [(ent.text, ent.label_) for ent in doc.ents]\n",
    "\n",
    "ent_df = pd.DataFrame(entities, columns=[\"entity\", \"label\"])\n",
    "\n",
    "ent_df['entity'].value_counts()"
   ],
   "metadata": {
    "collapsed": false,
    "ExecuteTime": {
     "end_time": "2023-10-24T05:12:44.655182Z",
     "start_time": "2023-10-24T05:12:43.272091Z"
    }
   }
  },
  {
   "cell_type": "code",
   "execution_count": null,
   "outputs": [],
   "source": [],
   "metadata": {
    "collapsed": false
   }
  }
 ],
 "metadata": {
  "kernelspec": {
   "display_name": "Python 3",
   "language": "python",
   "name": "python3"
  },
  "language_info": {
   "codemirror_mode": {
    "name": "ipython",
    "version": 2
   },
   "file_extension": ".py",
   "mimetype": "text/x-python",
   "name": "python",
   "nbconvert_exporter": "python",
   "pygments_lexer": "ipython2",
   "version": "2.7.6"
  }
 },
 "nbformat": 4,
 "nbformat_minor": 0
}
